{
  "cells": [
    {
      "cell_type": "code",
      "execution_count": 1,
      "metadata": {
        "colab": {
          "base_uri": "https://localhost:8080/"
        },
        "id": "Lid87DRV-EMC",
        "outputId": "c7a4676e-4679-466c-caa5-141ae543d39c"
      },
      "outputs": [
        {
          "output_type": "stream",
          "name": "stdout",
          "text": [
            "Mounted at /content/grive\n"
          ]
        }
      ],
      "source": [
        "from google.colab import drive\n",
        "drive.mount(\"/content/grive\")"
      ]
    },
    {
      "cell_type": "code",
      "execution_count": 2,
      "metadata": {
        "id": "UU14i_5W92qS"
      },
      "outputs": [],
      "source": [
        "import os\n",
        "import numpy as np\n",
        "import pandas as pd\n",
        "import matplotlib.pyplot as plt\n",
        "import seaborn as sns\n",
        "import plotly.graph_objects as go\n",
        "from sklearn.preprocessing import StandardScaler\n",
        "import pickle"
      ]
    },
    {
      "cell_type": "markdown",
      "metadata": {
        "id": "AhMdo2TIxJCg"
      },
      "source": [
        "*italicized text*\n",
        "\n",
        "\n",
        "\n",
        "\n",
        "\n",
        "\n",
        "\n",
        "\n",
        "\n",
        "\n",
        "\n",
        "#                                                          **S&P Analysis**"
      ]
    },
    {
      "cell_type": "code",
      "execution_count": 3,
      "metadata": {
        "colab": {
          "base_uri": "https://localhost:8080/",
          "height": 206
        },
        "id": "14c4e331",
        "outputId": "f7579925-3813-464b-c082-14f784a53d0c"
      },
      "outputs": [
        {
          "output_type": "execute_result",
          "data": {
            "text/plain": [
              "         Date  Close/Last Volume     Open     High      Low\n",
              "0  06/24/2022     3911.74     --  3821.75  3913.65  3821.75\n",
              "1  06/23/2022     3795.73     --  3774.71  3802.58  3743.52\n",
              "2  06/22/2022     3759.89     --  3733.89  3801.79  3717.69\n",
              "3  06/21/2022     3764.79     --  3715.31  3779.65  3715.31\n",
              "4  06/17/2022     3674.84     --  3665.90  3707.71  3636.87"
            ],
            "text/html": [
              "\n",
              "  <div id=\"df-25b009c6-84cb-4e10-b66f-f4ffa8706944\">\n",
              "    <div class=\"colab-df-container\">\n",
              "      <div>\n",
              "<style scoped>\n",
              "    .dataframe tbody tr th:only-of-type {\n",
              "        vertical-align: middle;\n",
              "    }\n",
              "\n",
              "    .dataframe tbody tr th {\n",
              "        vertical-align: top;\n",
              "    }\n",
              "\n",
              "    .dataframe thead th {\n",
              "        text-align: right;\n",
              "    }\n",
              "</style>\n",
              "<table border=\"1\" class=\"dataframe\">\n",
              "  <thead>\n",
              "    <tr style=\"text-align: right;\">\n",
              "      <th></th>\n",
              "      <th>Date</th>\n",
              "      <th>Close/Last</th>\n",
              "      <th>Volume</th>\n",
              "      <th>Open</th>\n",
              "      <th>High</th>\n",
              "      <th>Low</th>\n",
              "    </tr>\n",
              "  </thead>\n",
              "  <tbody>\n",
              "    <tr>\n",
              "      <th>0</th>\n",
              "      <td>06/24/2022</td>\n",
              "      <td>3911.74</td>\n",
              "      <td>--</td>\n",
              "      <td>3821.75</td>\n",
              "      <td>3913.65</td>\n",
              "      <td>3821.75</td>\n",
              "    </tr>\n",
              "    <tr>\n",
              "      <th>1</th>\n",
              "      <td>06/23/2022</td>\n",
              "      <td>3795.73</td>\n",
              "      <td>--</td>\n",
              "      <td>3774.71</td>\n",
              "      <td>3802.58</td>\n",
              "      <td>3743.52</td>\n",
              "    </tr>\n",
              "    <tr>\n",
              "      <th>2</th>\n",
              "      <td>06/22/2022</td>\n",
              "      <td>3759.89</td>\n",
              "      <td>--</td>\n",
              "      <td>3733.89</td>\n",
              "      <td>3801.79</td>\n",
              "      <td>3717.69</td>\n",
              "    </tr>\n",
              "    <tr>\n",
              "      <th>3</th>\n",
              "      <td>06/21/2022</td>\n",
              "      <td>3764.79</td>\n",
              "      <td>--</td>\n",
              "      <td>3715.31</td>\n",
              "      <td>3779.65</td>\n",
              "      <td>3715.31</td>\n",
              "    </tr>\n",
              "    <tr>\n",
              "      <th>4</th>\n",
              "      <td>06/17/2022</td>\n",
              "      <td>3674.84</td>\n",
              "      <td>--</td>\n",
              "      <td>3665.90</td>\n",
              "      <td>3707.71</td>\n",
              "      <td>3636.87</td>\n",
              "    </tr>\n",
              "  </tbody>\n",
              "</table>\n",
              "</div>\n",
              "      <button class=\"colab-df-convert\" onclick=\"convertToInteractive('df-25b009c6-84cb-4e10-b66f-f4ffa8706944')\"\n",
              "              title=\"Convert this dataframe to an interactive table.\"\n",
              "              style=\"display:none;\">\n",
              "        \n",
              "  <svg xmlns=\"http://www.w3.org/2000/svg\" height=\"24px\"viewBox=\"0 0 24 24\"\n",
              "       width=\"24px\">\n",
              "    <path d=\"M0 0h24v24H0V0z\" fill=\"none\"/>\n",
              "    <path d=\"M18.56 5.44l.94 2.06.94-2.06 2.06-.94-2.06-.94-.94-2.06-.94 2.06-2.06.94zm-11 1L8.5 8.5l.94-2.06 2.06-.94-2.06-.94L8.5 2.5l-.94 2.06-2.06.94zm10 10l.94 2.06.94-2.06 2.06-.94-2.06-.94-.94-2.06-.94 2.06-2.06.94z\"/><path d=\"M17.41 7.96l-1.37-1.37c-.4-.4-.92-.59-1.43-.59-.52 0-1.04.2-1.43.59L10.3 9.45l-7.72 7.72c-.78.78-.78 2.05 0 2.83L4 21.41c.39.39.9.59 1.41.59.51 0 1.02-.2 1.41-.59l7.78-7.78 2.81-2.81c.8-.78.8-2.07 0-2.86zM5.41 20L4 18.59l7.72-7.72 1.47 1.35L5.41 20z\"/>\n",
              "  </svg>\n",
              "      </button>\n",
              "      \n",
              "  <style>\n",
              "    .colab-df-container {\n",
              "      display:flex;\n",
              "      flex-wrap:wrap;\n",
              "      gap: 12px;\n",
              "    }\n",
              "\n",
              "    .colab-df-convert {\n",
              "      background-color: #E8F0FE;\n",
              "      border: none;\n",
              "      border-radius: 50%;\n",
              "      cursor: pointer;\n",
              "      display: none;\n",
              "      fill: #1967D2;\n",
              "      height: 32px;\n",
              "      padding: 0 0 0 0;\n",
              "      width: 32px;\n",
              "    }\n",
              "\n",
              "    .colab-df-convert:hover {\n",
              "      background-color: #E2EBFA;\n",
              "      box-shadow: 0px 1px 2px rgba(60, 64, 67, 0.3), 0px 1px 3px 1px rgba(60, 64, 67, 0.15);\n",
              "      fill: #174EA6;\n",
              "    }\n",
              "\n",
              "    [theme=dark] .colab-df-convert {\n",
              "      background-color: #3B4455;\n",
              "      fill: #D2E3FC;\n",
              "    }\n",
              "\n",
              "    [theme=dark] .colab-df-convert:hover {\n",
              "      background-color: #434B5C;\n",
              "      box-shadow: 0px 1px 3px 1px rgba(0, 0, 0, 0.15);\n",
              "      filter: drop-shadow(0px 1px 2px rgba(0, 0, 0, 0.3));\n",
              "      fill: #FFFFFF;\n",
              "    }\n",
              "  </style>\n",
              "\n",
              "      <script>\n",
              "        const buttonEl =\n",
              "          document.querySelector('#df-25b009c6-84cb-4e10-b66f-f4ffa8706944 button.colab-df-convert');\n",
              "        buttonEl.style.display =\n",
              "          google.colab.kernel.accessAllowed ? 'block' : 'none';\n",
              "\n",
              "        async function convertToInteractive(key) {\n",
              "          const element = document.querySelector('#df-25b009c6-84cb-4e10-b66f-f4ffa8706944');\n",
              "          const dataTable =\n",
              "            await google.colab.kernel.invokeFunction('convertToInteractive',\n",
              "                                                     [key], {});\n",
              "          if (!dataTable) return;\n",
              "\n",
              "          const docLinkHtml = 'Like what you see? Visit the ' +\n",
              "            '<a target=\"_blank\" href=https://colab.research.google.com/notebooks/data_table.ipynb>data table notebook</a>'\n",
              "            + ' to learn more about interactive tables.';\n",
              "          element.innerHTML = '';\n",
              "          dataTable['output_type'] = 'display_data';\n",
              "          await google.colab.output.renderOutput(dataTable, element);\n",
              "          const docLink = document.createElement('div');\n",
              "          docLink.innerHTML = docLinkHtml;\n",
              "          element.appendChild(docLink);\n",
              "        }\n",
              "      </script>\n",
              "    </div>\n",
              "  </div>\n",
              "  "
            ]
          },
          "metadata": {},
          "execution_count": 3
        }
      ],
      "source": [
        "# Reading dataset\n",
        "stock_data=pd.read_csv(\"/content/grive/MyDrive/Colab Notebooks/Technical and Economics Data/S&P500_HistoricalData_1656311331506.csv\")\n",
        "stock_data.head()"
      ]
    },
    {
      "cell_type": "markdown",
      "metadata": {
        "id": "d42MkTSL4NL-"
      },
      "source": [
        "DATA CLEANING"
      ]
    },
    {
      "cell_type": "markdown",
      "metadata": {
        "id": "90Wo11Op77cJ"
      },
      "source": [
        "As volume contains null value and volume means the number of shares bought or sold during the paricular period i.e. can't be calculated from given dataset. So removing the volume column."
      ]
    },
    {
      "cell_type": "code",
      "execution_count": 4,
      "metadata": {
        "colab": {
          "base_uri": "https://localhost:8080/",
          "height": 206
        },
        "id": "df8c482d",
        "outputId": "87fd0587-f316-45ea-ae1f-603ae155f9fa"
      },
      "outputs": [
        {
          "output_type": "execute_result",
          "data": {
            "text/plain": [
              "         Date  Close/Last     Open     High      Low\n",
              "0  06/24/2022     3911.74  3821.75  3913.65  3821.75\n",
              "1  06/23/2022     3795.73  3774.71  3802.58  3743.52\n",
              "2  06/22/2022     3759.89  3733.89  3801.79  3717.69\n",
              "3  06/21/2022     3764.79  3715.31  3779.65  3715.31\n",
              "4  06/17/2022     3674.84  3665.90  3707.71  3636.87"
            ],
            "text/html": [
              "\n",
              "  <div id=\"df-86007146-ae36-491b-90cc-eb04d8b0079d\">\n",
              "    <div class=\"colab-df-container\">\n",
              "      <div>\n",
              "<style scoped>\n",
              "    .dataframe tbody tr th:only-of-type {\n",
              "        vertical-align: middle;\n",
              "    }\n",
              "\n",
              "    .dataframe tbody tr th {\n",
              "        vertical-align: top;\n",
              "    }\n",
              "\n",
              "    .dataframe thead th {\n",
              "        text-align: right;\n",
              "    }\n",
              "</style>\n",
              "<table border=\"1\" class=\"dataframe\">\n",
              "  <thead>\n",
              "    <tr style=\"text-align: right;\">\n",
              "      <th></th>\n",
              "      <th>Date</th>\n",
              "      <th>Close/Last</th>\n",
              "      <th>Open</th>\n",
              "      <th>High</th>\n",
              "      <th>Low</th>\n",
              "    </tr>\n",
              "  </thead>\n",
              "  <tbody>\n",
              "    <tr>\n",
              "      <th>0</th>\n",
              "      <td>06/24/2022</td>\n",
              "      <td>3911.74</td>\n",
              "      <td>3821.75</td>\n",
              "      <td>3913.65</td>\n",
              "      <td>3821.75</td>\n",
              "    </tr>\n",
              "    <tr>\n",
              "      <th>1</th>\n",
              "      <td>06/23/2022</td>\n",
              "      <td>3795.73</td>\n",
              "      <td>3774.71</td>\n",
              "      <td>3802.58</td>\n",
              "      <td>3743.52</td>\n",
              "    </tr>\n",
              "    <tr>\n",
              "      <th>2</th>\n",
              "      <td>06/22/2022</td>\n",
              "      <td>3759.89</td>\n",
              "      <td>3733.89</td>\n",
              "      <td>3801.79</td>\n",
              "      <td>3717.69</td>\n",
              "    </tr>\n",
              "    <tr>\n",
              "      <th>3</th>\n",
              "      <td>06/21/2022</td>\n",
              "      <td>3764.79</td>\n",
              "      <td>3715.31</td>\n",
              "      <td>3779.65</td>\n",
              "      <td>3715.31</td>\n",
              "    </tr>\n",
              "    <tr>\n",
              "      <th>4</th>\n",
              "      <td>06/17/2022</td>\n",
              "      <td>3674.84</td>\n",
              "      <td>3665.90</td>\n",
              "      <td>3707.71</td>\n",
              "      <td>3636.87</td>\n",
              "    </tr>\n",
              "  </tbody>\n",
              "</table>\n",
              "</div>\n",
              "      <button class=\"colab-df-convert\" onclick=\"convertToInteractive('df-86007146-ae36-491b-90cc-eb04d8b0079d')\"\n",
              "              title=\"Convert this dataframe to an interactive table.\"\n",
              "              style=\"display:none;\">\n",
              "        \n",
              "  <svg xmlns=\"http://www.w3.org/2000/svg\" height=\"24px\"viewBox=\"0 0 24 24\"\n",
              "       width=\"24px\">\n",
              "    <path d=\"M0 0h24v24H0V0z\" fill=\"none\"/>\n",
              "    <path d=\"M18.56 5.44l.94 2.06.94-2.06 2.06-.94-2.06-.94-.94-2.06-.94 2.06-2.06.94zm-11 1L8.5 8.5l.94-2.06 2.06-.94-2.06-.94L8.5 2.5l-.94 2.06-2.06.94zm10 10l.94 2.06.94-2.06 2.06-.94-2.06-.94-.94-2.06-.94 2.06-2.06.94z\"/><path d=\"M17.41 7.96l-1.37-1.37c-.4-.4-.92-.59-1.43-.59-.52 0-1.04.2-1.43.59L10.3 9.45l-7.72 7.72c-.78.78-.78 2.05 0 2.83L4 21.41c.39.39.9.59 1.41.59.51 0 1.02-.2 1.41-.59l7.78-7.78 2.81-2.81c.8-.78.8-2.07 0-2.86zM5.41 20L4 18.59l7.72-7.72 1.47 1.35L5.41 20z\"/>\n",
              "  </svg>\n",
              "      </button>\n",
              "      \n",
              "  <style>\n",
              "    .colab-df-container {\n",
              "      display:flex;\n",
              "      flex-wrap:wrap;\n",
              "      gap: 12px;\n",
              "    }\n",
              "\n",
              "    .colab-df-convert {\n",
              "      background-color: #E8F0FE;\n",
              "      border: none;\n",
              "      border-radius: 50%;\n",
              "      cursor: pointer;\n",
              "      display: none;\n",
              "      fill: #1967D2;\n",
              "      height: 32px;\n",
              "      padding: 0 0 0 0;\n",
              "      width: 32px;\n",
              "    }\n",
              "\n",
              "    .colab-df-convert:hover {\n",
              "      background-color: #E2EBFA;\n",
              "      box-shadow: 0px 1px 2px rgba(60, 64, 67, 0.3), 0px 1px 3px 1px rgba(60, 64, 67, 0.15);\n",
              "      fill: #174EA6;\n",
              "    }\n",
              "\n",
              "    [theme=dark] .colab-df-convert {\n",
              "      background-color: #3B4455;\n",
              "      fill: #D2E3FC;\n",
              "    }\n",
              "\n",
              "    [theme=dark] .colab-df-convert:hover {\n",
              "      background-color: #434B5C;\n",
              "      box-shadow: 0px 1px 3px 1px rgba(0, 0, 0, 0.15);\n",
              "      filter: drop-shadow(0px 1px 2px rgba(0, 0, 0, 0.3));\n",
              "      fill: #FFFFFF;\n",
              "    }\n",
              "  </style>\n",
              "\n",
              "      <script>\n",
              "        const buttonEl =\n",
              "          document.querySelector('#df-86007146-ae36-491b-90cc-eb04d8b0079d button.colab-df-convert');\n",
              "        buttonEl.style.display =\n",
              "          google.colab.kernel.accessAllowed ? 'block' : 'none';\n",
              "\n",
              "        async function convertToInteractive(key) {\n",
              "          const element = document.querySelector('#df-86007146-ae36-491b-90cc-eb04d8b0079d');\n",
              "          const dataTable =\n",
              "            await google.colab.kernel.invokeFunction('convertToInteractive',\n",
              "                                                     [key], {});\n",
              "          if (!dataTable) return;\n",
              "\n",
              "          const docLinkHtml = 'Like what you see? Visit the ' +\n",
              "            '<a target=\"_blank\" href=https://colab.research.google.com/notebooks/data_table.ipynb>data table notebook</a>'\n",
              "            + ' to learn more about interactive tables.';\n",
              "          element.innerHTML = '';\n",
              "          dataTable['output_type'] = 'display_data';\n",
              "          await google.colab.output.renderOutput(dataTable, element);\n",
              "          const docLink = document.createElement('div');\n",
              "          docLink.innerHTML = docLinkHtml;\n",
              "          element.appendChild(docLink);\n",
              "        }\n",
              "      </script>\n",
              "    </div>\n",
              "  </div>\n",
              "  "
            ]
          },
          "metadata": {},
          "execution_count": 4
        }
      ],
      "source": [
        "std_1=stock_data.copy()\n",
        "std_1[\"Volume\"]=std_1[\"Volume\"].replace(\"--\",np.nan)\n",
        "std_1 = std_1.dropna(axis=1)\n",
        "std_1.head()"
      ]
    },
    {
      "cell_type": "code",
      "execution_count": 5,
      "metadata": {
        "colab": {
          "base_uri": "https://localhost:8080/"
        },
        "id": "uhMuqfhRz_j6",
        "outputId": "0420f1ad-870d-4700-a882-c54c7235707c"
      },
      "outputs": [
        {
          "output_type": "execute_result",
          "data": {
            "text/plain": [
              "0.00       33\n",
              "2578.29     2\n",
              "2761.85     2\n",
              "2674.35     2\n",
              "2074.28     2\n",
              "           ..\n",
              "2816.88     1\n",
              "2808.02     1\n",
              "2793.73     1\n",
              "2795.76     1\n",
              "1334.40     1\n",
              "Name: High, Length: 2497, dtype: int64"
            ]
          },
          "metadata": {},
          "execution_count": 5
        }
      ],
      "source": [
        "std_1[\"High\"].value_counts()"
      ]
    },
    {
      "cell_type": "markdown",
      "metadata": {
        "id": "ue2JWrjW0d4T"
      },
      "source": [
        "Since 33 rows of column Close/Last, High, Low is having 0.00 value. They belong to the date of christmas,new year,etc.. So, removing such missing rows."
      ]
    },
    {
      "cell_type": "code",
      "execution_count": 6,
      "metadata": {
        "colab": {
          "base_uri": "https://localhost:8080/",
          "height": 206
        },
        "id": "b719da6d",
        "outputId": "5dffed91-7c6d-4689-901d-ef11bf923d43",
        "scrolled": true
      },
      "outputs": [
        {
          "output_type": "execute_result",
          "data": {
            "text/plain": [
              "         Date  Close/Last     Open     High      Low\n",
              "0  06/24/2022     3911.74  3821.75  3913.65  3821.75\n",
              "1  06/23/2022     3795.73  3774.71  3802.58  3743.52\n",
              "2  06/22/2022     3759.89  3733.89  3801.79  3717.69\n",
              "3  06/21/2022     3764.79  3715.31  3779.65  3715.31\n",
              "4  06/17/2022     3674.84  3665.90  3707.71  3636.87"
            ],
            "text/html": [
              "\n",
              "  <div id=\"df-337e6c20-ee05-41b4-bc2d-969df03aa51d\">\n",
              "    <div class=\"colab-df-container\">\n",
              "      <div>\n",
              "<style scoped>\n",
              "    .dataframe tbody tr th:only-of-type {\n",
              "        vertical-align: middle;\n",
              "    }\n",
              "\n",
              "    .dataframe tbody tr th {\n",
              "        vertical-align: top;\n",
              "    }\n",
              "\n",
              "    .dataframe thead th {\n",
              "        text-align: right;\n",
              "    }\n",
              "</style>\n",
              "<table border=\"1\" class=\"dataframe\">\n",
              "  <thead>\n",
              "    <tr style=\"text-align: right;\">\n",
              "      <th></th>\n",
              "      <th>Date</th>\n",
              "      <th>Close/Last</th>\n",
              "      <th>Open</th>\n",
              "      <th>High</th>\n",
              "      <th>Low</th>\n",
              "    </tr>\n",
              "  </thead>\n",
              "  <tbody>\n",
              "    <tr>\n",
              "      <th>0</th>\n",
              "      <td>06/24/2022</td>\n",
              "      <td>3911.74</td>\n",
              "      <td>3821.75</td>\n",
              "      <td>3913.65</td>\n",
              "      <td>3821.75</td>\n",
              "    </tr>\n",
              "    <tr>\n",
              "      <th>1</th>\n",
              "      <td>06/23/2022</td>\n",
              "      <td>3795.73</td>\n",
              "      <td>3774.71</td>\n",
              "      <td>3802.58</td>\n",
              "      <td>3743.52</td>\n",
              "    </tr>\n",
              "    <tr>\n",
              "      <th>2</th>\n",
              "      <td>06/22/2022</td>\n",
              "      <td>3759.89</td>\n",
              "      <td>3733.89</td>\n",
              "      <td>3801.79</td>\n",
              "      <td>3717.69</td>\n",
              "    </tr>\n",
              "    <tr>\n",
              "      <th>3</th>\n",
              "      <td>06/21/2022</td>\n",
              "      <td>3764.79</td>\n",
              "      <td>3715.31</td>\n",
              "      <td>3779.65</td>\n",
              "      <td>3715.31</td>\n",
              "    </tr>\n",
              "    <tr>\n",
              "      <th>4</th>\n",
              "      <td>06/17/2022</td>\n",
              "      <td>3674.84</td>\n",
              "      <td>3665.90</td>\n",
              "      <td>3707.71</td>\n",
              "      <td>3636.87</td>\n",
              "    </tr>\n",
              "  </tbody>\n",
              "</table>\n",
              "</div>\n",
              "      <button class=\"colab-df-convert\" onclick=\"convertToInteractive('df-337e6c20-ee05-41b4-bc2d-969df03aa51d')\"\n",
              "              title=\"Convert this dataframe to an interactive table.\"\n",
              "              style=\"display:none;\">\n",
              "        \n",
              "  <svg xmlns=\"http://www.w3.org/2000/svg\" height=\"24px\"viewBox=\"0 0 24 24\"\n",
              "       width=\"24px\">\n",
              "    <path d=\"M0 0h24v24H0V0z\" fill=\"none\"/>\n",
              "    <path d=\"M18.56 5.44l.94 2.06.94-2.06 2.06-.94-2.06-.94-.94-2.06-.94 2.06-2.06.94zm-11 1L8.5 8.5l.94-2.06 2.06-.94-2.06-.94L8.5 2.5l-.94 2.06-2.06.94zm10 10l.94 2.06.94-2.06 2.06-.94-2.06-.94-.94-2.06-.94 2.06-2.06.94z\"/><path d=\"M17.41 7.96l-1.37-1.37c-.4-.4-.92-.59-1.43-.59-.52 0-1.04.2-1.43.59L10.3 9.45l-7.72 7.72c-.78.78-.78 2.05 0 2.83L4 21.41c.39.39.9.59 1.41.59.51 0 1.02-.2 1.41-.59l7.78-7.78 2.81-2.81c.8-.78.8-2.07 0-2.86zM5.41 20L4 18.59l7.72-7.72 1.47 1.35L5.41 20z\"/>\n",
              "  </svg>\n",
              "      </button>\n",
              "      \n",
              "  <style>\n",
              "    .colab-df-container {\n",
              "      display:flex;\n",
              "      flex-wrap:wrap;\n",
              "      gap: 12px;\n",
              "    }\n",
              "\n",
              "    .colab-df-convert {\n",
              "      background-color: #E8F0FE;\n",
              "      border: none;\n",
              "      border-radius: 50%;\n",
              "      cursor: pointer;\n",
              "      display: none;\n",
              "      fill: #1967D2;\n",
              "      height: 32px;\n",
              "      padding: 0 0 0 0;\n",
              "      width: 32px;\n",
              "    }\n",
              "\n",
              "    .colab-df-convert:hover {\n",
              "      background-color: #E2EBFA;\n",
              "      box-shadow: 0px 1px 2px rgba(60, 64, 67, 0.3), 0px 1px 3px 1px rgba(60, 64, 67, 0.15);\n",
              "      fill: #174EA6;\n",
              "    }\n",
              "\n",
              "    [theme=dark] .colab-df-convert {\n",
              "      background-color: #3B4455;\n",
              "      fill: #D2E3FC;\n",
              "    }\n",
              "\n",
              "    [theme=dark] .colab-df-convert:hover {\n",
              "      background-color: #434B5C;\n",
              "      box-shadow: 0px 1px 3px 1px rgba(0, 0, 0, 0.15);\n",
              "      filter: drop-shadow(0px 1px 2px rgba(0, 0, 0, 0.3));\n",
              "      fill: #FFFFFF;\n",
              "    }\n",
              "  </style>\n",
              "\n",
              "      <script>\n",
              "        const buttonEl =\n",
              "          document.querySelector('#df-337e6c20-ee05-41b4-bc2d-969df03aa51d button.colab-df-convert');\n",
              "        buttonEl.style.display =\n",
              "          google.colab.kernel.accessAllowed ? 'block' : 'none';\n",
              "\n",
              "        async function convertToInteractive(key) {\n",
              "          const element = document.querySelector('#df-337e6c20-ee05-41b4-bc2d-969df03aa51d');\n",
              "          const dataTable =\n",
              "            await google.colab.kernel.invokeFunction('convertToInteractive',\n",
              "                                                     [key], {});\n",
              "          if (!dataTable) return;\n",
              "\n",
              "          const docLinkHtml = 'Like what you see? Visit the ' +\n",
              "            '<a target=\"_blank\" href=https://colab.research.google.com/notebooks/data_table.ipynb>data table notebook</a>'\n",
              "            + ' to learn more about interactive tables.';\n",
              "          element.innerHTML = '';\n",
              "          dataTable['output_type'] = 'display_data';\n",
              "          await google.colab.output.renderOutput(dataTable, element);\n",
              "          const docLink = document.createElement('div');\n",
              "          docLink.innerHTML = docLinkHtml;\n",
              "          element.appendChild(docLink);\n",
              "        }\n",
              "      </script>\n",
              "    </div>\n",
              "  </div>\n",
              "  "
            ]
          },
          "metadata": {},
          "execution_count": 6
        }
      ],
      "source": [
        "std_2 = std_1.copy()\n",
        "std_2[\"High\"]=std_2[\"High\"].replace(0, np.nan)\n",
        "std_2=std_2.dropna(axis=0)\n",
        "std_2.head()"
      ]
    },
    {
      "cell_type": "code",
      "execution_count": 7,
      "metadata": {
        "colab": {
          "base_uri": "https://localhost:8080/"
        },
        "id": "b30bf91b",
        "outputId": "79de28de-f395-46b3-cd66-57f43f0bb77b"
      },
      "outputs": [
        {
          "output_type": "execute_result",
          "data": {
            "text/plain": [
              "(2515, 5)"
            ]
          },
          "metadata": {},
          "execution_count": 7
        }
      ],
      "source": [
        "std_2.shape"
      ]
    },
    {
      "cell_type": "code",
      "execution_count": 8,
      "metadata": {
        "colab": {
          "base_uri": "https://localhost:8080/",
          "height": 424
        },
        "id": "5cfedb64",
        "outputId": "1a274b8d-f7ad-463f-a657-b98fbe507833"
      },
      "outputs": [
        {
          "output_type": "execute_result",
          "data": {
            "text/plain": [
              "           Date  Close/Last     Open     High      Low\n",
              "0    2022-06-24     3911.74  3821.75  3913.65  3821.75\n",
              "1    2022-06-23     3795.73  3774.71  3802.58  3743.52\n",
              "2    2022-06-22     3759.89  3733.89  3801.79  3717.69\n",
              "3    2022-06-21     3764.79  3715.31  3779.65  3715.31\n",
              "4    2022-06-17     3674.84  3665.90  3707.71  3636.87\n",
              "...         ...         ...      ...      ...      ...\n",
              "2543 2012-07-03     1374.02  1365.75  1374.81  1363.53\n",
              "2544 2012-07-02     1365.51  1362.33  1366.35  1355.70\n",
              "2545 2012-06-29     1362.16  1330.12  1362.17  1330.12\n",
              "2546 2012-06-28     1329.04  1331.52  1331.52  1313.29\n",
              "2547 2012-06-27     1331.85  1320.71  1334.40  1320.71\n",
              "\n",
              "[2515 rows x 5 columns]"
            ],
            "text/html": [
              "\n",
              "  <div id=\"df-001f7e7a-ccb9-472e-87b4-b06752f0c030\">\n",
              "    <div class=\"colab-df-container\">\n",
              "      <div>\n",
              "<style scoped>\n",
              "    .dataframe tbody tr th:only-of-type {\n",
              "        vertical-align: middle;\n",
              "    }\n",
              "\n",
              "    .dataframe tbody tr th {\n",
              "        vertical-align: top;\n",
              "    }\n",
              "\n",
              "    .dataframe thead th {\n",
              "        text-align: right;\n",
              "    }\n",
              "</style>\n",
              "<table border=\"1\" class=\"dataframe\">\n",
              "  <thead>\n",
              "    <tr style=\"text-align: right;\">\n",
              "      <th></th>\n",
              "      <th>Date</th>\n",
              "      <th>Close/Last</th>\n",
              "      <th>Open</th>\n",
              "      <th>High</th>\n",
              "      <th>Low</th>\n",
              "    </tr>\n",
              "  </thead>\n",
              "  <tbody>\n",
              "    <tr>\n",
              "      <th>0</th>\n",
              "      <td>2022-06-24</td>\n",
              "      <td>3911.74</td>\n",
              "      <td>3821.75</td>\n",
              "      <td>3913.65</td>\n",
              "      <td>3821.75</td>\n",
              "    </tr>\n",
              "    <tr>\n",
              "      <th>1</th>\n",
              "      <td>2022-06-23</td>\n",
              "      <td>3795.73</td>\n",
              "      <td>3774.71</td>\n",
              "      <td>3802.58</td>\n",
              "      <td>3743.52</td>\n",
              "    </tr>\n",
              "    <tr>\n",
              "      <th>2</th>\n",
              "      <td>2022-06-22</td>\n",
              "      <td>3759.89</td>\n",
              "      <td>3733.89</td>\n",
              "      <td>3801.79</td>\n",
              "      <td>3717.69</td>\n",
              "    </tr>\n",
              "    <tr>\n",
              "      <th>3</th>\n",
              "      <td>2022-06-21</td>\n",
              "      <td>3764.79</td>\n",
              "      <td>3715.31</td>\n",
              "      <td>3779.65</td>\n",
              "      <td>3715.31</td>\n",
              "    </tr>\n",
              "    <tr>\n",
              "      <th>4</th>\n",
              "      <td>2022-06-17</td>\n",
              "      <td>3674.84</td>\n",
              "      <td>3665.90</td>\n",
              "      <td>3707.71</td>\n",
              "      <td>3636.87</td>\n",
              "    </tr>\n",
              "    <tr>\n",
              "      <th>...</th>\n",
              "      <td>...</td>\n",
              "      <td>...</td>\n",
              "      <td>...</td>\n",
              "      <td>...</td>\n",
              "      <td>...</td>\n",
              "    </tr>\n",
              "    <tr>\n",
              "      <th>2543</th>\n",
              "      <td>2012-07-03</td>\n",
              "      <td>1374.02</td>\n",
              "      <td>1365.75</td>\n",
              "      <td>1374.81</td>\n",
              "      <td>1363.53</td>\n",
              "    </tr>\n",
              "    <tr>\n",
              "      <th>2544</th>\n",
              "      <td>2012-07-02</td>\n",
              "      <td>1365.51</td>\n",
              "      <td>1362.33</td>\n",
              "      <td>1366.35</td>\n",
              "      <td>1355.70</td>\n",
              "    </tr>\n",
              "    <tr>\n",
              "      <th>2545</th>\n",
              "      <td>2012-06-29</td>\n",
              "      <td>1362.16</td>\n",
              "      <td>1330.12</td>\n",
              "      <td>1362.17</td>\n",
              "      <td>1330.12</td>\n",
              "    </tr>\n",
              "    <tr>\n",
              "      <th>2546</th>\n",
              "      <td>2012-06-28</td>\n",
              "      <td>1329.04</td>\n",
              "      <td>1331.52</td>\n",
              "      <td>1331.52</td>\n",
              "      <td>1313.29</td>\n",
              "    </tr>\n",
              "    <tr>\n",
              "      <th>2547</th>\n",
              "      <td>2012-06-27</td>\n",
              "      <td>1331.85</td>\n",
              "      <td>1320.71</td>\n",
              "      <td>1334.40</td>\n",
              "      <td>1320.71</td>\n",
              "    </tr>\n",
              "  </tbody>\n",
              "</table>\n",
              "<p>2515 rows × 5 columns</p>\n",
              "</div>\n",
              "      <button class=\"colab-df-convert\" onclick=\"convertToInteractive('df-001f7e7a-ccb9-472e-87b4-b06752f0c030')\"\n",
              "              title=\"Convert this dataframe to an interactive table.\"\n",
              "              style=\"display:none;\">\n",
              "        \n",
              "  <svg xmlns=\"http://www.w3.org/2000/svg\" height=\"24px\"viewBox=\"0 0 24 24\"\n",
              "       width=\"24px\">\n",
              "    <path d=\"M0 0h24v24H0V0z\" fill=\"none\"/>\n",
              "    <path d=\"M18.56 5.44l.94 2.06.94-2.06 2.06-.94-2.06-.94-.94-2.06-.94 2.06-2.06.94zm-11 1L8.5 8.5l.94-2.06 2.06-.94-2.06-.94L8.5 2.5l-.94 2.06-2.06.94zm10 10l.94 2.06.94-2.06 2.06-.94-2.06-.94-.94-2.06-.94 2.06-2.06.94z\"/><path d=\"M17.41 7.96l-1.37-1.37c-.4-.4-.92-.59-1.43-.59-.52 0-1.04.2-1.43.59L10.3 9.45l-7.72 7.72c-.78.78-.78 2.05 0 2.83L4 21.41c.39.39.9.59 1.41.59.51 0 1.02-.2 1.41-.59l7.78-7.78 2.81-2.81c.8-.78.8-2.07 0-2.86zM5.41 20L4 18.59l7.72-7.72 1.47 1.35L5.41 20z\"/>\n",
              "  </svg>\n",
              "      </button>\n",
              "      \n",
              "  <style>\n",
              "    .colab-df-container {\n",
              "      display:flex;\n",
              "      flex-wrap:wrap;\n",
              "      gap: 12px;\n",
              "    }\n",
              "\n",
              "    .colab-df-convert {\n",
              "      background-color: #E8F0FE;\n",
              "      border: none;\n",
              "      border-radius: 50%;\n",
              "      cursor: pointer;\n",
              "      display: none;\n",
              "      fill: #1967D2;\n",
              "      height: 32px;\n",
              "      padding: 0 0 0 0;\n",
              "      width: 32px;\n",
              "    }\n",
              "\n",
              "    .colab-df-convert:hover {\n",
              "      background-color: #E2EBFA;\n",
              "      box-shadow: 0px 1px 2px rgba(60, 64, 67, 0.3), 0px 1px 3px 1px rgba(60, 64, 67, 0.15);\n",
              "      fill: #174EA6;\n",
              "    }\n",
              "\n",
              "    [theme=dark] .colab-df-convert {\n",
              "      background-color: #3B4455;\n",
              "      fill: #D2E3FC;\n",
              "    }\n",
              "\n",
              "    [theme=dark] .colab-df-convert:hover {\n",
              "      background-color: #434B5C;\n",
              "      box-shadow: 0px 1px 3px 1px rgba(0, 0, 0, 0.15);\n",
              "      filter: drop-shadow(0px 1px 2px rgba(0, 0, 0, 0.3));\n",
              "      fill: #FFFFFF;\n",
              "    }\n",
              "  </style>\n",
              "\n",
              "      <script>\n",
              "        const buttonEl =\n",
              "          document.querySelector('#df-001f7e7a-ccb9-472e-87b4-b06752f0c030 button.colab-df-convert');\n",
              "        buttonEl.style.display =\n",
              "          google.colab.kernel.accessAllowed ? 'block' : 'none';\n",
              "\n",
              "        async function convertToInteractive(key) {\n",
              "          const element = document.querySelector('#df-001f7e7a-ccb9-472e-87b4-b06752f0c030');\n",
              "          const dataTable =\n",
              "            await google.colab.kernel.invokeFunction('convertToInteractive',\n",
              "                                                     [key], {});\n",
              "          if (!dataTable) return;\n",
              "\n",
              "          const docLinkHtml = 'Like what you see? Visit the ' +\n",
              "            '<a target=\"_blank\" href=https://colab.research.google.com/notebooks/data_table.ipynb>data table notebook</a>'\n",
              "            + ' to learn more about interactive tables.';\n",
              "          element.innerHTML = '';\n",
              "          dataTable['output_type'] = 'display_data';\n",
              "          await google.colab.output.renderOutput(dataTable, element);\n",
              "          const docLink = document.createElement('div');\n",
              "          docLink.innerHTML = docLinkHtml;\n",
              "          element.appendChild(docLink);\n",
              "        }\n",
              "      </script>\n",
              "    </div>\n",
              "  </div>\n",
              "  "
            ]
          },
          "metadata": {},
          "execution_count": 8
        }
      ],
      "source": [
        "# converting date column to datetime format to access day, month and year \n",
        "std_2[\"Date\"]=pd.to_datetime(std_2[\"Date\"],format=\"%m/%d/%Y\")\n",
        "std_2"
      ]
    },
    {
      "cell_type": "markdown",
      "metadata": {
        "id": "_NzXclLP82--"
      },
      "source": [
        "Checking for Outliers in Close/last column w.r.t to years."
      ]
    },
    {
      "cell_type": "code",
      "execution_count": 9,
      "metadata": {
        "colab": {
          "base_uri": "https://localhost:8080/",
          "height": 530
        },
        "id": "9ug-oiMC5PZH",
        "outputId": "d2eeaf9a-a930-4aa6-db29-1ea9d88a8046"
      },
      "outputs": [
        {
          "output_type": "execute_result",
          "data": {
            "text/plain": [
              "<matplotlib.axes._subplots.AxesSubplot at 0x7f3ef1782ed0>"
            ]
          },
          "metadata": {},
          "execution_count": 9
        },
        {
          "output_type": "display_data",
          "data": {
            "text/plain": [
              "<Figure size 1296x576 with 1 Axes>"
            ],
            "image/png": "[encoded data removed]"
          },
          "metadata": {
            "needs_background": "light"
          }
        }
      ],
      "source": [
        "std_2[\"year\"]=std_2[\"Date\"].dt.year\n",
        "plt.figure(figsize=(18,8))\n",
        "plt.title(\"Outliers in stock price w.r.t years\")\n",
        "sns.boxplot(x=std_2.year,y= std_2[\"Close/Last\"])"
      ]
    },
    {
      "cell_type": "markdown",
      "metadata": {
        "id": "QPbNKuuNfPok"
      },
      "source": [
        "From box-plot it is clear theat in year 2015, 2016, 2018, 2019, 2020 is having outliers with their closing price. So we need to remove outliers from these years."
      ]
    },
    {
      "cell_type": "code",
      "execution_count": 10,
      "metadata": {
        "colab": {
          "base_uri": "https://localhost:8080/"
        },
        "id": "gbX5f41TcvW_",
        "outputId": "bd93eb7f-d797-46cf-e8d0-aebfe39d2af5"
      },
      "outputs": [
        {
          "output_type": "stream",
          "name": "stdout",
          "text": [
            "[           Date  Close/Last     Open     High      Low  year\n",
            "1631 2015-12-31     2043.94  2060.59  2062.54  2043.62  2015\n",
            "1632 2015-12-30     2063.36  2077.34  2077.34  2061.97  2015\n",
            "1633 2015-12-29     2078.36  2060.54  2081.56  2060.54  2015\n",
            "1634 2015-12-28     2056.50  2057.77  2057.77  2044.20  2015\n",
            "1636 2015-12-24     2060.99  2063.52  2067.36  2058.73  2015\n",
            "...         ...         ...      ...      ...      ...   ...\n",
            "1886 2015-01-08     2062.14  2030.61  2064.08  2030.61  2015\n",
            "1887 2015-01-07     2025.90  2005.55  2029.61  2005.55  2015\n",
            "1888 2015-01-06     2002.61  2022.15  2030.25  1992.44  2015\n",
            "1889 2015-01-05     2020.58  2054.44  2054.44  2017.34  2015\n",
            "1890 2015-01-02     2058.20  2058.90  2072.36  2046.04  2015\n",
            "\n",
            "[252 rows x 6 columns],            Date  Close/Last     Open     High      Low  year\n",
            "1379 2016-12-30     2238.83  2251.61  2253.58  2233.62  2016\n",
            "1380 2016-12-29     2249.26  2249.50  2254.51  2244.56  2016\n",
            "1381 2016-12-28     2249.92  2270.23  2271.31  2249.11  2016\n",
            "1382 2016-12-27     2268.88  2266.23  2273.82  2266.15  2016\n",
            "1383 2016-12-23     2263.79  2260.25  2263.79  2258.84  2016\n",
            "...         ...         ...      ...      ...      ...   ...\n",
            "1626 2016-01-08     1922.03  1945.97  1960.40  1918.46  2016\n",
            "1627 2016-01-07     1943.09  1985.32  1985.32  1938.83  2016\n",
            "1628 2016-01-06     1990.26  2011.71  2011.71  1979.05  2016\n",
            "1629 2016-01-05     2016.71  2013.78  2021.94  2004.17  2016\n",
            "1630 2016-01-04     2012.66  2038.20  2038.20  1989.68  2016\n",
            "\n",
            "[252 rows x 6 columns],            Date  Close/Last     Open     High      Low  year\n",
            "877  2018-12-31     2506.85  2498.94  2509.24  2482.82  2018\n",
            "878  2018-12-28     2485.74  2498.77  2520.27  2472.89  2018\n",
            "879  2018-12-27     2488.83  2442.50  2489.10  2397.94  2018\n",
            "880  2018-12-26     2467.70  2363.12  2467.76  2346.58  2018\n",
            "881  2018-12-24     2351.10  2400.56  2410.34  2351.10  2018\n",
            "...         ...         ...      ...      ...      ...   ...\n",
            "1123 2018-01-08     2747.71  2742.67  2748.51  2737.60  2018\n",
            "1124 2018-01-05     2743.15  2731.33  2743.45  2727.92  2018\n",
            "1125 2018-01-04     2723.99  2719.31  2729.29  2719.07  2018\n",
            "1126 2018-01-03     2713.06  2697.85  2714.37  2697.77  2018\n",
            "1127 2018-01-02     2695.81  2683.73  2695.89  2682.36  2018\n",
            "\n",
            "[251 rows x 6 columns],           Date  Close/Last     Open     High      Low  year\n",
            "625 2019-12-31     3230.78  3215.18  3231.72  3212.03  2019\n",
            "626 2019-12-30     3221.29  3240.09  3240.92  3216.57  2019\n",
            "627 2019-12-27     3240.02  3247.23  3247.93  3234.37  2019\n",
            "628 2019-12-26     3239.91  3227.20  3240.08  3227.20  2019\n",
            "629 2019-12-24     3223.38  3225.45  3226.43  3220.51  2019\n",
            "..         ...         ...      ...      ...      ...   ...\n",
            "872 2019-01-08     2574.41  2568.11  2579.82  2547.56  2019\n",
            "873 2019-01-07     2549.69  2535.61  2566.16  2524.56  2019\n",
            "874 2019-01-04     2531.94  2474.33  2538.07  2474.33  2019\n",
            "875 2019-01-03     2447.89  2491.92  2493.14  2443.96  2019\n",
            "876 2019-01-02     2510.03  2476.96  2519.49  2467.47  2019\n",
            "\n",
            "[252 rows x 6 columns],           Date  Close/Last     Open     High      Low  year\n",
            "372 2020-12-31     3756.07  3733.27  3760.20  3726.88  2020\n",
            "373 2020-12-30     3732.04  3736.19  3744.63  3730.21  2020\n",
            "374 2020-12-29     3727.04  3750.01  3756.12  3723.31  2020\n",
            "375 2020-12-28     3735.36  3723.03  3740.51  3723.03  2020\n",
            "376 2020-12-24     3703.06  3694.03  3703.82  3689.32  2020\n",
            "..         ...         ...      ...      ...      ...   ...\n",
            "620 2020-01-08     3253.05  3238.59  3267.07  3236.67  2020\n",
            "621 2020-01-07     3237.18  3241.86  3244.91  3232.43  2020\n",
            "622 2020-01-06     3246.28  3217.55  3246.84  3214.64  2020\n",
            "623 2020-01-03     3234.85  3226.36  3246.15  3222.34  2020\n",
            "624 2020-01-02     3257.85  3244.67  3258.14  3235.53  2020\n",
            "\n",
            "[253 rows x 6 columns]]\n"
          ]
        }
      ],
      "source": [
        "#  bifuracting years w.r.t one which are having outliers. \n",
        "c=[2015,2016,2018,2019,2020]\n",
        "y=[]\n",
        "for i in c:\n",
        "  s= std_2[std_2.year==i]\n",
        "  y.append(s)\n",
        "print(y)  \n",
        "\n",
        "# bifuracting years w.r.t one which is not having outliers\n",
        "d=[2012,2013,2014,2017,2021,2022]\n",
        "k=[]\n",
        "for i in d:\n",
        "  b = std_2[std_2.year==i]\n",
        "  k.append(b)"
      ]
    },
    {
      "cell_type": "code",
      "execution_count": 11,
      "metadata": {
        "colab": {
          "base_uri": "https://localhost:8080/",
          "height": 1000
        },
        "id": "OmrPMmOT3jks",
        "outputId": "12ff830c-2a80-4e40-8608-32439da59fc3"
      },
      "outputs": [
        {
          "output_type": "stream",
          "name": "stderr",
          "text": [
            "/usr/local/lib/python3.7/dist-packages/ipykernel_launcher.py:11: SettingWithCopyWarning: \n",
            "A value is trying to be set on a copy of a slice from a DataFrame.\n",
            "Try using .loc[row_indexer,col_indexer] = value instead\n",
            "\n",
            "See the caveats in the documentation: https://pandas.pydata.org/pandas-docs/stable/user_guide/indexing.html#returning-a-view-versus-a-copy\n",
            "  # This is added back by InteractiveShellApp.init_path()\n",
            "/usr/local/lib/python3.7/dist-packages/ipykernel_launcher.py:12: SettingWithCopyWarning: \n",
            "A value is trying to be set on a copy of a slice from a DataFrame.\n",
            "Try using .loc[row_indexer,col_indexer] = value instead\n",
            "\n",
            "See the caveats in the documentation: https://pandas.pydata.org/pandas-docs/stable/user_guide/indexing.html#returning-a-view-versus-a-copy\n",
            "  if sys.path[0] == '':\n",
            "/usr/local/lib/python3.7/dist-packages/ipykernel_launcher.py:11: SettingWithCopyWarning: \n",
            "A value is trying to be set on a copy of a slice from a DataFrame.\n",
            "Try using .loc[row_indexer,col_indexer] = value instead\n",
            "\n",
            "See the caveats in the documentation: https://pandas.pydata.org/pandas-docs/stable/user_guide/indexing.html#returning-a-view-versus-a-copy\n",
            "  # This is added back by InteractiveShellApp.init_path()\n",
            "/usr/local/lib/python3.7/dist-packages/ipykernel_launcher.py:12: SettingWithCopyWarning: \n",
            "A value is trying to be set on a copy of a slice from a DataFrame.\n",
            "Try using .loc[row_indexer,col_indexer] = value instead\n",
            "\n",
            "See the caveats in the documentation: https://pandas.pydata.org/pandas-docs/stable/user_guide/indexing.html#returning-a-view-versus-a-copy\n",
            "  if sys.path[0] == '':\n",
            "/usr/local/lib/python3.7/dist-packages/ipykernel_launcher.py:11: SettingWithCopyWarning: \n",
            "A value is trying to be set on a copy of a slice from a DataFrame.\n",
            "Try using .loc[row_indexer,col_indexer] = value instead\n",
            "\n",
            "See the caveats in the documentation: https://pandas.pydata.org/pandas-docs/stable/user_guide/indexing.html#returning-a-view-versus-a-copy\n",
            "  # This is added back by InteractiveShellApp.init_path()\n",
            "/usr/local/lib/python3.7/dist-packages/ipykernel_launcher.py:12: SettingWithCopyWarning: \n",
            "A value is trying to be set on a copy of a slice from a DataFrame.\n",
            "Try using .loc[row_indexer,col_indexer] = value instead\n",
            "\n",
            "See the caveats in the documentation: https://pandas.pydata.org/pandas-docs/stable/user_guide/indexing.html#returning-a-view-versus-a-copy\n",
            "  if sys.path[0] == '':\n",
            "/usr/local/lib/python3.7/dist-packages/ipykernel_launcher.py:11: SettingWithCopyWarning: \n",
            "A value is trying to be set on a copy of a slice from a DataFrame.\n",
            "Try using .loc[row_indexer,col_indexer] = value instead\n",
            "\n",
            "See the caveats in the documentation: https://pandas.pydata.org/pandas-docs/stable/user_guide/indexing.html#returning-a-view-versus-a-copy\n",
            "  # This is added back by InteractiveShellApp.init_path()\n",
            "/usr/local/lib/python3.7/dist-packages/ipykernel_launcher.py:12: SettingWithCopyWarning: \n",
            "A value is trying to be set on a copy of a slice from a DataFrame.\n",
            "Try using .loc[row_indexer,col_indexer] = value instead\n",
            "\n",
            "See the caveats in the documentation: https://pandas.pydata.org/pandas-docs/stable/user_guide/indexing.html#returning-a-view-versus-a-copy\n",
            "  if sys.path[0] == '':\n",
            "/usr/local/lib/python3.7/dist-packages/ipykernel_launcher.py:11: SettingWithCopyWarning: \n",
            "A value is trying to be set on a copy of a slice from a DataFrame.\n",
            "Try using .loc[row_indexer,col_indexer] = value instead\n",
            "\n",
            "See the caveats in the documentation: https://pandas.pydata.org/pandas-docs/stable/user_guide/indexing.html#returning-a-view-versus-a-copy\n",
            "  # This is added back by InteractiveShellApp.init_path()\n",
            "/usr/local/lib/python3.7/dist-packages/ipykernel_launcher.py:12: SettingWithCopyWarning: \n",
            "A value is trying to be set on a copy of a slice from a DataFrame.\n",
            "Try using .loc[row_indexer,col_indexer] = value instead\n",
            "\n",
            "See the caveats in the documentation: https://pandas.pydata.org/pandas-docs/stable/user_guide/indexing.html#returning-a-view-versus-a-copy\n",
            "  if sys.path[0] == '':\n"
          ]
        },
        {
          "output_type": "display_data",
          "data": {
            "text/plain": [
              "<Figure size 360x360 with 1 Axes>"
            ],
            "image/png": "[encoded data removed]"
          },
          "metadata": {
            "needs_background": "light"
          }
        },
        {
          "output_type": "display_data",
          "data": {
            "text/plain": [
              "<Figure size 360x360 with 1 Axes>"
            ],
            "image/png": "[encoded data removed]"
          },
          "metadata": {
            "needs_background": "light"
          }
        },
        {
          "output_type": "display_data",
          "data": {
            "text/plain": [
              "<Figure size 360x360 with 1 Axes>"
            ],
            "image/png": "[encoded data removed]"
          },
          "metadata": {
            "needs_background": "light"
          }
        },
        {
          "output_type": "display_data",
          "data": {
            "text/plain": [
              "<Figure size 360x360 with 1 Axes>"
            ],
            "image/png": "[encoded data removed]"
          },
          "metadata": {
            "needs_background": "light"
          }
        },
        {
          "output_type": "display_data",
          "data": {
            "text/plain": [
              "<Figure size 360x360 with 1 Axes>"
            ],
            "image/png": "[encoded data removed]"
          },
          "metadata": {
            "needs_background": "light"
          }
        }
      ],
      "source": [
        "# removing outliers\n",
        "def remove_outliers(col):\n",
        "    sorted(col)\n",
        "    Q1, Q3 = col.quantile([0.25,0.75])\n",
        "    IQR= Q3- Q1\n",
        "    lower_range = Q1-(1.5*IQR)\n",
        "    upper_range= Q3 + (1.5*IQR)\n",
        "    return lower_range,upper_range\n",
        "for i in y:\n",
        "  low_point,high_point= remove_outliers(i[\"Close/Last\"])\n",
        "  i[\"Close/Last\"]= np.where(i[\"Close/Last\"]>high_point,high_point,i[\"Close/Last\"])\n",
        "  i[\"Close/Last\"]= np.where(i[\"Close/Last\"]<low_point,low_point,i[\"Close/Last\"])\n",
        "  sns.catplot(x=\"Close/Last\", data= i, kind=\"box\")\n"
      ]
    },
    {
      "cell_type": "code",
      "execution_count": 12,
      "metadata": {
        "colab": {
          "base_uri": "https://localhost:8080/",
          "height": 424
        },
        "id": "_tFgFyZfp2uU",
        "outputId": "a113fbae-8d3a-41fc-f5ef-045a87bb4be1"
      },
      "outputs": [
        {
          "output_type": "execute_result",
          "data": {
            "text/plain": [
              "           Date  Close/Last     Open     High      Low  year\n",
              "2414 2012-12-31     1426.19  1402.43  1426.74  1398.11  2012\n",
              "2415 2012-12-28     1402.43  1418.10  1418.10  1401.58  2012\n",
              "2416 2012-12-27     1418.10  1419.83  1422.80  1401.80  2012\n",
              "2417 2012-12-26     1419.83  1426.66  1429.42  1416.43  2012\n",
              "2419 2012-12-24     1426.66  1430.15  1430.15  1424.66  2012\n",
              "...         ...         ...      ...      ...      ...   ...\n",
              "115  2022-01-07     4677.03  4697.66  4707.95  4662.74  2022\n",
              "116  2022-01-06     4696.05  4693.39  4725.01  4671.26  2022\n",
              "117  2022-01-05     4700.58  4787.99  4797.70  4699.44  2022\n",
              "118  2022-01-04     4793.54  4804.51  4818.62  4774.27  2022\n",
              "119  2022-01-03     4796.56  4778.14  4796.64  4758.17  2022\n",
              "\n",
              "[2515 rows x 6 columns]"
            ],
            "text/html": [
              "\n",
              "  <div id=\"df-e60968ba-aced-4136-9c18-02ffb4f589d0\">\n",
              "    <div class=\"colab-df-container\">\n",
              "      <div>\n",
              "<style scoped>\n",
              "    .dataframe tbody tr th:only-of-type {\n",
              "        vertical-align: middle;\n",
              "    }\n",
              "\n",
              "    .dataframe tbody tr th {\n",
              "        vertical-align: top;\n",
              "    }\n",
              "\n",
              "    .dataframe thead th {\n",
              "        text-align: right;\n",
              "    }\n",
              "</style>\n",
              "<table border=\"1\" class=\"dataframe\">\n",
              "  <thead>\n",
              "    <tr style=\"text-align: right;\">\n",
              "      <th></th>\n",
              "      <th>Date</th>\n",
              "      <th>Close/Last</th>\n",
              "      <th>Open</th>\n",
              "      <th>High</th>\n",
              "      <th>Low</th>\n",
              "      <th>year</th>\n",
              "    </tr>\n",
              "  </thead>\n",
              "  <tbody>\n",
              "    <tr>\n",
              "      <th>2414</th>\n",
              "      <td>2012-12-31</td>\n",
              "      <td>1426.19</td>\n",
              "      <td>1402.43</td>\n",
              "      <td>1426.74</td>\n",
              "      <td>1398.11</td>\n",
              "      <td>2012</td>\n",
              "    </tr>\n",
              "    <tr>\n",
              "      <th>2415</th>\n",
              "      <td>2012-12-28</td>\n",
              "      <td>1402.43</td>\n",
              "      <td>1418.10</td>\n",
              "      <td>1418.10</td>\n",
              "      <td>1401.58</td>\n",
              "      <td>2012</td>\n",
              "    </tr>\n",
              "    <tr>\n",
              "      <th>2416</th>\n",
              "      <td>2012-12-27</td>\n",
              "      <td>1418.10</td>\n",
              "      <td>1419.83</td>\n",
              "      <td>1422.80</td>\n",
              "      <td>1401.80</td>\n",
              "      <td>2012</td>\n",
              "    </tr>\n",
              "    <tr>\n",
              "      <th>2417</th>\n",
              "      <td>2012-12-26</td>\n",
              "      <td>1419.83</td>\n",
              "      <td>1426.66</td>\n",
              "      <td>1429.42</td>\n",
              "      <td>1416.43</td>\n",
              "      <td>2012</td>\n",
              "    </tr>\n",
              "    <tr>\n",
              "      <th>2419</th>\n",
              "      <td>2012-12-24</td>\n",
              "      <td>1426.66</td>\n",
              "      <td>1430.15</td>\n",
              "      <td>1430.15</td>\n",
              "      <td>1424.66</td>\n",
              "      <td>2012</td>\n",
              "    </tr>\n",
              "    <tr>\n",
              "      <th>...</th>\n",
              "      <td>...</td>\n",
              "      <td>...</td>\n",
              "      <td>...</td>\n",
              "      <td>...</td>\n",
              "      <td>...</td>\n",
              "      <td>...</td>\n",
              "    </tr>\n",
              "    <tr>\n",
              "      <th>115</th>\n",
              "      <td>2022-01-07</td>\n",
              "      <td>4677.03</td>\n",
              "      <td>4697.66</td>\n",
              "      <td>4707.95</td>\n",
              "      <td>4662.74</td>\n",
              "      <td>2022</td>\n",
              "    </tr>\n",
              "    <tr>\n",
              "      <th>116</th>\n",
              "      <td>2022-01-06</td>\n",
              "      <td>4696.05</td>\n",
              "      <td>4693.39</td>\n",
              "      <td>4725.01</td>\n",
              "      <td>4671.26</td>\n",
              "      <td>2022</td>\n",
              "    </tr>\n",
              "    <tr>\n",
              "      <th>117</th>\n",
              "      <td>2022-01-05</td>\n",
              "      <td>4700.58</td>\n",
              "      <td>4787.99</td>\n",
              "      <td>4797.70</td>\n",
              "      <td>4699.44</td>\n",
              "      <td>2022</td>\n",
              "    </tr>\n",
              "    <tr>\n",
              "      <th>118</th>\n",
              "      <td>2022-01-04</td>\n",
              "      <td>4793.54</td>\n",
              "      <td>4804.51</td>\n",
              "      <td>4818.62</td>\n",
              "      <td>4774.27</td>\n",
              "      <td>2022</td>\n",
              "    </tr>\n",
              "    <tr>\n",
              "      <th>119</th>\n",
              "      <td>2022-01-03</td>\n",
              "      <td>4796.56</td>\n",
              "      <td>4778.14</td>\n",
              "      <td>4796.64</td>\n",
              "      <td>4758.17</td>\n",
              "      <td>2022</td>\n",
              "    </tr>\n",
              "  </tbody>\n",
              "</table>\n",
              "<p>2515 rows × 6 columns</p>\n",
              "</div>\n",
              "      <button class=\"colab-df-convert\" onclick=\"convertToInteractive('df-e60968ba-aced-4136-9c18-02ffb4f589d0')\"\n",
              "              title=\"Convert this dataframe to an interactive table.\"\n",
              "              style=\"display:none;\">\n",
              "        \n",
              "  <svg xmlns=\"http://www.w3.org/2000/svg\" height=\"24px\"viewBox=\"0 0 24 24\"\n",
              "       width=\"24px\">\n",
              "    <path d=\"M0 0h24v24H0V0z\" fill=\"none\"/>\n",
              "    <path d=\"M18.56 5.44l.94 2.06.94-2.06 2.06-.94-2.06-.94-.94-2.06-.94 2.06-2.06.94zm-11 1L8.5 8.5l.94-2.06 2.06-.94-2.06-.94L8.5 2.5l-.94 2.06-2.06.94zm10 10l.94 2.06.94-2.06 2.06-.94-2.06-.94-.94-2.06-.94 2.06-2.06.94z\"/><path d=\"M17.41 7.96l-1.37-1.37c-.4-.4-.92-.59-1.43-.59-.52 0-1.04.2-1.43.59L10.3 9.45l-7.72 7.72c-.78.78-.78 2.05 0 2.83L4 21.41c.39.39.9.59 1.41.59.51 0 1.02-.2 1.41-.59l7.78-7.78 2.81-2.81c.8-.78.8-2.07 0-2.86zM5.41 20L4 18.59l7.72-7.72 1.47 1.35L5.41 20z\"/>\n",
              "  </svg>\n",
              "      </button>\n",
              "      \n",
              "  <style>\n",
              "    .colab-df-container {\n",
              "      display:flex;\n",
              "      flex-wrap:wrap;\n",
              "      gap: 12px;\n",
              "    }\n",
              "\n",
              "    .colab-df-convert {\n",
              "      background-color: #E8F0FE;\n",
              "      border: none;\n",
              "      border-radius: 50%;\n",
              "      cursor: pointer;\n",
              "      display: none;\n",
              "      fill: #1967D2;\n",
              "      height: 32px;\n",
              "      padding: 0 0 0 0;\n",
              "      width: 32px;\n",
              "    }\n",
              "\n",
              "    .colab-df-convert:hover {\n",
              "      background-color: #E2EBFA;\n",
              "      box-shadow: 0px 1px 2px rgba(60, 64, 67, 0.3), 0px 1px 3px 1px rgba(60, 64, 67, 0.15);\n",
              "      fill: #174EA6;\n",
              "    }\n",
              "\n",
              "    [theme=dark] .colab-df-convert {\n",
              "      background-color: #3B4455;\n",
              "      fill: #D2E3FC;\n",
              "    }\n",
              "\n",
              "    [theme=dark] .colab-df-convert:hover {\n",
              "      background-color: #434B5C;\n",
              "      box-shadow: 0px 1px 3px 1px rgba(0, 0, 0, 0.15);\n",
              "      filter: drop-shadow(0px 1px 2px rgba(0, 0, 0, 0.3));\n",
              "      fill: #FFFFFF;\n",
              "    }\n",
              "  </style>\n",
              "\n",
              "      <script>\n",
              "        const buttonEl =\n",
              "          document.querySelector('#df-e60968ba-aced-4136-9c18-02ffb4f589d0 button.colab-df-convert');\n",
              "        buttonEl.style.display =\n",
              "          google.colab.kernel.accessAllowed ? 'block' : 'none';\n",
              "\n",
              "        async function convertToInteractive(key) {\n",
              "          const element = document.querySelector('#df-e60968ba-aced-4136-9c18-02ffb4f589d0');\n",
              "          const dataTable =\n",
              "            await google.colab.kernel.invokeFunction('convertToInteractive',\n",
              "                                                     [key], {});\n",
              "          if (!dataTable) return;\n",
              "\n",
              "          const docLinkHtml = 'Like what you see? Visit the ' +\n",
              "            '<a target=\"_blank\" href=https://colab.research.google.com/notebooks/data_table.ipynb>data table notebook</a>'\n",
              "            + ' to learn more about interactive tables.';\n",
              "          element.innerHTML = '';\n",
              "          dataTable['output_type'] = 'display_data';\n",
              "          await google.colab.output.renderOutput(dataTable, element);\n",
              "          const docLink = document.createElement('div');\n",
              "          docLink.innerHTML = docLinkHtml;\n",
              "          element.appendChild(docLink);\n",
              "        }\n",
              "      </script>\n",
              "    </div>\n",
              "  </div>\n",
              "  "
            ]
          },
          "metadata": {},
          "execution_count": 12
        }
      ],
      "source": [
        "# merging all the year dataframes into one and naming it new_s_p500\n",
        "new_s_p500=pd.concat([k[0],k[1],k[2],y[0],y[1],k[3],y[2],y[3],y[4],k[4],k[5]],axis=0)\n",
        "new_s_p500"
      ]
    },
    {
      "cell_type": "code",
      "execution_count": 13,
      "metadata": {
        "colab": {
          "base_uri": "https://localhost:8080/"
        },
        "id": "9ebVsVkd7wJe",
        "outputId": "fe8fb2e2-f7e8-43c7-9b2a-80ed328f305a"
      },
      "outputs": [
        {
          "output_type": "stream",
          "name": "stdout",
          "text": [
            "<class 'pandas.core.frame.DataFrame'>\n",
            "Int64Index: 2515 entries, 2414 to 119\n",
            "Data columns (total 6 columns):\n",
            " #   Column      Non-Null Count  Dtype         \n",
            "---  ------      --------------  -----         \n",
            " 0   Date        2515 non-null   datetime64[ns]\n",
            " 1   Close/Last  2515 non-null   float64       \n",
            " 2   Open        2515 non-null   float64       \n",
            " 3   High        2515 non-null   float64       \n",
            " 4   Low         2515 non-null   float64       \n",
            " 5   year        2515 non-null   int64         \n",
            "dtypes: datetime64[ns](1), float64(4), int64(1)\n",
            "memory usage: 137.5 KB\n",
            "None\n",
            "        Close/Last         Open         High          Low         year\n",
            "count  2515.000000  2515.000000  2515.000000  2515.000000  2515.000000\n",
            "mean   2614.375432  2613.362195  2626.815336  2598.650159  2016.984891\n",
            "std     873.786361   874.289398   879.979788   867.684617     2.912638\n",
            "min    1329.040000  1320.710000  1331.520000  1313.290000  2012.000000\n",
            "25%    1985.245000  1983.780000  1991.395000  1974.815000  2014.000000\n",
            "50%    2433.150000  2431.240000  2440.150000  2417.350000  2017.000000\n",
            "75%    3002.735000  3002.875000  3014.245000  2986.685000  2019.000000\n",
            "max    4796.560000  4804.510000  4818.620000  4780.040000  2022.000000\n",
            "(2515, 6)\n"
          ]
        }
      ],
      "source": [
        "# checking for informations on new dataset created\n",
        "print(new_s_p500.info())\n",
        "print(new_s_p500.describe())\n",
        "print(new_s_p500.shape)"
      ]
    },
    {
      "cell_type": "code",
      "execution_count": 14,
      "metadata": {
        "colab": {
          "base_uri": "https://localhost:8080/",
          "height": 286
        },
        "id": "0YvxqIX24JcX",
        "outputId": "6bf0b4e3-a7d8-4b42-bf54-cd0fc4e9e242"
      },
      "outputs": [
        {
          "output_type": "execute_result",
          "data": {
            "text/plain": [
              "<matplotlib.axes._subplots.AxesSubplot at 0x7f3ef10f3150>"
            ]
          },
          "metadata": {},
          "execution_count": 14
        },
        {
          "output_type": "display_data",
          "data": {
            "text/plain": [
              "<Figure size 432x288 with 2 Axes>"
            ],
            "image/png": "[encoded data removed]"
          },
          "metadata": {
            "needs_background": "light"
          }
        }
      ],
      "source": [
        "# Correlation among features\n",
        "sns.heatmap(new_s_p500.corr())"
      ]
    },
    {
      "cell_type": "code",
      "execution_count": 15,
      "metadata": {
        "colab": {
          "base_uri": "https://localhost:8080/",
          "height": 424
        },
        "id": "718d817f",
        "outputId": "a9f689bd-6ddd-4fd5-eb2d-06dbe358d9b1"
      },
      "outputs": [
        {
          "output_type": "execute_result",
          "data": {
            "text/plain": [
              "           Date  Close/Last     Open     High      Low  year\n",
              "2547 2012-06-27     1331.85  1320.71  1334.40  1320.71  2012\n",
              "2546 2012-06-28     1329.04  1331.52  1331.52  1313.29  2012\n",
              "2545 2012-06-29     1362.16  1330.12  1362.17  1330.12  2012\n",
              "2544 2012-07-02     1365.51  1362.33  1366.35  1355.70  2012\n",
              "2543 2012-07-03     1374.02  1365.75  1374.81  1363.53  2012\n",
              "...         ...         ...      ...      ...      ...   ...\n",
              "4    2022-06-17     3674.84  3665.90  3707.71  3636.87  2022\n",
              "3    2022-06-21     3764.79  3715.31  3779.65  3715.31  2022\n",
              "2    2022-06-22     3759.89  3733.89  3801.79  3717.69  2022\n",
              "1    2022-06-23     3795.73  3774.71  3802.58  3743.52  2022\n",
              "0    2022-06-24     3911.74  3821.75  3913.65  3821.75  2022\n",
              "\n",
              "[2515 rows x 6 columns]"
            ],
            "text/html": [
              "\n",
              "  <div id=\"df-b3e639da-0643-49b3-880e-bdd370fee67f\">\n",
              "    <div class=\"colab-df-container\">\n",
              "      <div>\n",
              "<style scoped>\n",
              "    .dataframe tbody tr th:only-of-type {\n",
              "        vertical-align: middle;\n",
              "    }\n",
              "\n",
              "    .dataframe tbody tr th {\n",
              "        vertical-align: top;\n",
              "    }\n",
              "\n",
              "    .dataframe thead th {\n",
              "        text-align: right;\n",
              "    }\n",
              "</style>\n",
              "<table border=\"1\" class=\"dataframe\">\n",
              "  <thead>\n",
              "    <tr style=\"text-align: right;\">\n",
              "      <th></th>\n",
              "      <th>Date</th>\n",
              "      <th>Close/Last</th>\n",
              "      <th>Open</th>\n",
              "      <th>High</th>\n",
              "      <th>Low</th>\n",
              "      <th>year</th>\n",
              "    </tr>\n",
              "  </thead>\n",
              "  <tbody>\n",
              "    <tr>\n",
              "      <th>2547</th>\n",
              "      <td>2012-06-27</td>\n",
              "      <td>1331.85</td>\n",
              "      <td>1320.71</td>\n",
              "      <td>1334.40</td>\n",
              "      <td>1320.71</td>\n",
              "      <td>2012</td>\n",
              "    </tr>\n",
              "    <tr>\n",
              "      <th>2546</th>\n",
              "      <td>2012-06-28</td>\n",
              "      <td>1329.04</td>\n",
              "      <td>1331.52</td>\n",
              "      <td>1331.52</td>\n",
              "      <td>1313.29</td>\n",
              "      <td>2012</td>\n",
              "    </tr>\n",
              "    <tr>\n",
              "      <th>2545</th>\n",
              "      <td>2012-06-29</td>\n",
              "      <td>1362.16</td>\n",
              "      <td>1330.12</td>\n",
              "      <td>1362.17</td>\n",
              "      <td>1330.12</td>\n",
              "      <td>2012</td>\n",
              "    </tr>\n",
              "    <tr>\n",
              "      <th>2544</th>\n",
              "      <td>2012-07-02</td>\n",
              "      <td>1365.51</td>\n",
              "      <td>1362.33</td>\n",
              "      <td>1366.35</td>\n",
              "      <td>1355.70</td>\n",
              "      <td>2012</td>\n",
              "    </tr>\n",
              "    <tr>\n",
              "      <th>2543</th>\n",
              "      <td>2012-07-03</td>\n",
              "      <td>1374.02</td>\n",
              "      <td>1365.75</td>\n",
              "      <td>1374.81</td>\n",
              "      <td>1363.53</td>\n",
              "      <td>2012</td>\n",
              "    </tr>\n",
              "    <tr>\n",
              "      <th>...</th>\n",
              "      <td>...</td>\n",
              "      <td>...</td>\n",
              "      <td>...</td>\n",
              "      <td>...</td>\n",
              "      <td>...</td>\n",
              "      <td>...</td>\n",
              "    </tr>\n",
              "    <tr>\n",
              "      <th>4</th>\n",
              "      <td>2022-06-17</td>\n",
              "      <td>3674.84</td>\n",
              "      <td>3665.90</td>\n",
              "      <td>3707.71</td>\n",
              "      <td>3636.87</td>\n",
              "      <td>2022</td>\n",
              "    </tr>\n",
              "    <tr>\n",
              "      <th>3</th>\n",
              "      <td>2022-06-21</td>\n",
              "      <td>3764.79</td>\n",
              "      <td>3715.31</td>\n",
              "      <td>3779.65</td>\n",
              "      <td>3715.31</td>\n",
              "      <td>2022</td>\n",
              "    </tr>\n",
              "    <tr>\n",
              "      <th>2</th>\n",
              "      <td>2022-06-22</td>\n",
              "      <td>3759.89</td>\n",
              "      <td>3733.89</td>\n",
              "      <td>3801.79</td>\n",
              "      <td>3717.69</td>\n",
              "      <td>2022</td>\n",
              "    </tr>\n",
              "    <tr>\n",
              "      <th>1</th>\n",
              "      <td>2022-06-23</td>\n",
              "      <td>3795.73</td>\n",
              "      <td>3774.71</td>\n",
              "      <td>3802.58</td>\n",
              "      <td>3743.52</td>\n",
              "      <td>2022</td>\n",
              "    </tr>\n",
              "    <tr>\n",
              "      <th>0</th>\n",
              "      <td>2022-06-24</td>\n",
              "      <td>3911.74</td>\n",
              "      <td>3821.75</td>\n",
              "      <td>3913.65</td>\n",
              "      <td>3821.75</td>\n",
              "      <td>2022</td>\n",
              "    </tr>\n",
              "  </tbody>\n",
              "</table>\n",
              "<p>2515 rows × 6 columns</p>\n",
              "</div>\n",
              "      <button class=\"colab-df-convert\" onclick=\"convertToInteractive('df-b3e639da-0643-49b3-880e-bdd370fee67f')\"\n",
              "              title=\"Convert this dataframe to an interactive table.\"\n",
              "              style=\"display:none;\">\n",
              "        \n",
              "  <svg xmlns=\"http://www.w3.org/2000/svg\" height=\"24px\"viewBox=\"0 0 24 24\"\n",
              "       width=\"24px\">\n",
              "    <path d=\"M0 0h24v24H0V0z\" fill=\"none\"/>\n",
              "    <path d=\"M18.56 5.44l.94 2.06.94-2.06 2.06-.94-2.06-.94-.94-2.06-.94 2.06-2.06.94zm-11 1L8.5 8.5l.94-2.06 2.06-.94-2.06-.94L8.5 2.5l-.94 2.06-2.06.94zm10 10l.94 2.06.94-2.06 2.06-.94-2.06-.94-.94-2.06-.94 2.06-2.06.94z\"/><path d=\"M17.41 7.96l-1.37-1.37c-.4-.4-.92-.59-1.43-.59-.52 0-1.04.2-1.43.59L10.3 9.45l-7.72 7.72c-.78.78-.78 2.05 0 2.83L4 21.41c.39.39.9.59 1.41.59.51 0 1.02-.2 1.41-.59l7.78-7.78 2.81-2.81c.8-.78.8-2.07 0-2.86zM5.41 20L4 18.59l7.72-7.72 1.47 1.35L5.41 20z\"/>\n",
              "  </svg>\n",
              "      </button>\n",
              "      \n",
              "  <style>\n",
              "    .colab-df-container {\n",
              "      display:flex;\n",
              "      flex-wrap:wrap;\n",
              "      gap: 12px;\n",
              "    }\n",
              "\n",
              "    .colab-df-convert {\n",
              "      background-color: #E8F0FE;\n",
              "      border: none;\n",
              "      border-radius: 50%;\n",
              "      cursor: pointer;\n",
              "      display: none;\n",
              "      fill: #1967D2;\n",
              "      height: 32px;\n",
              "      padding: 0 0 0 0;\n",
              "      width: 32px;\n",
              "    }\n",
              "\n",
              "    .colab-df-convert:hover {\n",
              "      background-color: #E2EBFA;\n",
              "      box-shadow: 0px 1px 2px rgba(60, 64, 67, 0.3), 0px 1px 3px 1px rgba(60, 64, 67, 0.15);\n",
              "      fill: #174EA6;\n",
              "    }\n",
              "\n",
              "    [theme=dark] .colab-df-convert {\n",
              "      background-color: #3B4455;\n",
              "      fill: #D2E3FC;\n",
              "    }\n",
              "\n",
              "    [theme=dark] .colab-df-convert:hover {\n",
              "      background-color: #434B5C;\n",
              "      box-shadow: 0px 1px 3px 1px rgba(0, 0, 0, 0.15);\n",
              "      filter: drop-shadow(0px 1px 2px rgba(0, 0, 0, 0.3));\n",
              "      fill: #FFFFFF;\n",
              "    }\n",
              "  </style>\n",
              "\n",
              "      <script>\n",
              "        const buttonEl =\n",
              "          document.querySelector('#df-b3e639da-0643-49b3-880e-bdd370fee67f button.colab-df-convert');\n",
              "        buttonEl.style.display =\n",
              "          google.colab.kernel.accessAllowed ? 'block' : 'none';\n",
              "\n",
              "        async function convertToInteractive(key) {\n",
              "          const element = document.querySelector('#df-b3e639da-0643-49b3-880e-bdd370fee67f');\n",
              "          const dataTable =\n",
              "            await google.colab.kernel.invokeFunction('convertToInteractive',\n",
              "                                                     [key], {});\n",
              "          if (!dataTable) return;\n",
              "\n",
              "          const docLinkHtml = 'Like what you see? Visit the ' +\n",
              "            '<a target=\"_blank\" href=https://colab.research.google.com/notebooks/data_table.ipynb>data table notebook</a>'\n",
              "            + ' to learn more about interactive tables.';\n",
              "          element.innerHTML = '';\n",
              "          dataTable['output_type'] = 'display_data';\n",
              "          await google.colab.output.renderOutput(dataTable, element);\n",
              "          const docLink = document.createElement('div');\n",
              "          docLink.innerHTML = docLinkHtml;\n",
              "          element.appendChild(docLink);\n",
              "        }\n",
              "      </script>\n",
              "    </div>\n",
              "  </div>\n",
              "  "
            ]
          },
          "metadata": {},
          "execution_count": 15
        }
      ],
      "source": [
        "# sorting date column\n",
        "new_s_p500=new_s_p500.sort_values(\"Date\", ascending=True)\n",
        "new_s_p500"
      ]
    },
    {
      "cell_type": "code",
      "execution_count": 16,
      "metadata": {
        "colab": {
          "base_uri": "https://localhost:8080/"
        },
        "id": "aSuuhNjYuSHh",
        "outputId": "b26fa4b0-09ed-4cbe-e106-243d96061d36"
      },
      "outputs": [
        {
          "output_type": "stream",
          "name": "stdout",
          "text": [
            "[[0.00081038]\n",
            " [0.        ]\n",
            " [0.0095515 ]\n",
            " ...\n",
            " [0.70103417]\n",
            " [0.71137009]\n",
            " [0.74482627]]\n"
          ]
        }
      ],
      "source": [
        "# normalizing the close/last price column\n",
        "from sklearn.preprocessing import MinMaxScaler\n",
        "scaler=MinMaxScaler(feature_range=(0,1))\n",
        "df1=scaler.fit_transform(np.array(new_s_p500[\"Close/Last\"]).reshape(-1,1))\n",
        "print(df1)"
      ]
    },
    {
      "cell_type": "code",
      "execution_count": 17,
      "metadata": {
        "id": "Wn4A2iWqwKPd"
      },
      "outputs": [],
      "source": [
        "##splitting dataset into train and test split\n",
        "training_size=int(len(df1)*0.7)\n",
        "test_size=len(df1)-training_size\n",
        "train_data,test_data=df1[0:training_size,:],df1[training_size:len(df1),:1]"
      ]
    },
    {
      "cell_type": "code",
      "execution_count": 18,
      "metadata": {
        "colab": {
          "base_uri": "https://localhost:8080/"
        },
        "id": "W-scz_dfwU8E",
        "outputId": "853a2300-3b99-4263-c923-819946369246"
      },
      "outputs": [
        {
          "output_type": "execute_result",
          "data": {
            "text/plain": [
              "(1760, 755)"
            ]
          },
          "metadata": {},
          "execution_count": 18
        }
      ],
      "source": [
        "training_size, test_size"
      ]
    },
    {
      "cell_type": "code",
      "execution_count": 19,
      "metadata": {
        "colab": {
          "base_uri": "https://localhost:8080/"
        },
        "id": "n2vedJjtwqxu",
        "outputId": "bda68d66-7cfa-4c1f-9a88-d925f889ab34"
      },
      "outputs": [
        {
          "output_type": "execute_result",
          "data": {
            "text/plain": [
              "array([[0.00081038],\n",
              "       [0.        ],\n",
              "       [0.0095515 ],\n",
              "       ...,\n",
              "       [0.46612853],\n",
              "       [0.45806225],\n",
              "       [0.45702404]])"
            ]
          },
          "metadata": {},
          "execution_count": 19
        }
      ],
      "source": [
        "train_data"
      ]
    },
    {
      "cell_type": "code",
      "execution_count": 20,
      "metadata": {
        "id": "RMD0H5grw0-l"
      },
      "outputs": [],
      "source": [
        "# convert an array of values into a dataset matrix\n",
        "def create_dataset(dataset, time_step=1):\n",
        "\tdataX, dataY = [], []\n",
        "\tfor i in range(len(dataset)-time_step-1):\n",
        "\t\ta = dataset[i:(i+time_step), 0]   ###i=0, 0,1,2,3-----15 \n",
        "\t\tdataX.append(a)\n",
        "\t\tdataY.append(dataset[i + time_step, 0])\n",
        "\treturn np.array(dataX), np.array(dataY)"
      ]
    },
    {
      "cell_type": "code",
      "execution_count": 21,
      "metadata": {
        "colab": {
          "base_uri": "https://localhost:8080/"
        },
        "id": "AtrYn0l5xalt",
        "outputId": "29d1f687-6d99-474f-e6f3-daf0c785c4ea"
      },
      "outputs": [
        {
          "output_type": "stream",
          "name": "stdout",
          "text": [
            "(1744, 15)\n",
            "(1744,)\n",
            "(739, 15)\n",
            "(739,)\n"
          ]
        },
        {
          "output_type": "execute_result",
          "data": {
            "text/plain": [
              "(None, None)"
            ]
          },
          "metadata": {},
          "execution_count": 21
        }
      ],
      "source": [
        "# reshape into X=t,t+1,t+2,t+3 and Y=t+4\n",
        "time_step = 15\n",
        "X_train, y_train = create_dataset(train_data, time_step)\n",
        "X_test, ytest = create_dataset(test_data, time_step)\n",
        "print(X_train.shape), print(y_train.shape)\n",
        "print(X_test.shape), print(ytest.shape)"
      ]
    },
    {
      "cell_type": "code",
      "execution_count": 22,
      "metadata": {
        "id": "rkGD_5v-yyE1"
      },
      "outputs": [],
      "source": [
        "# reshape input to be [samples, time steps, features] which is required for LSTM\n",
        "X_train =X_train.reshape(X_train.shape[0],X_train.shape[1] , 1)\n",
        "X_test = X_test.reshape(X_test.shape[0],X_test.shape[1] , 1)"
      ]
    },
    {
      "cell_type": "code",
      "execution_count": 23,
      "metadata": {
        "colab": {
          "base_uri": "https://localhost:8080/"
        },
        "id": "rWuIMcooAIAB",
        "outputId": "8c0820e9-a531-42d2-ffde-09c5299ba8c8"
      },
      "outputs": [
        {
          "output_type": "stream",
          "name": "stdout",
          "text": [
            "Looking in indexes: https://pypi.org/simple, https://us-python.pkg.dev/colab-wheels/public/simple/\n",
            "Requirement already satisfied: tensorflow in /usr/local/lib/python3.7/dist-packages (2.8.2+zzzcolab20220719082949)\n",
            "Requirement already satisfied: h5py>=2.9.0 in /usr/local/lib/python3.7/dist-packages (from tensorflow) (3.1.0)\n",
            "Requirement already satisfied: protobuf<3.20,>=3.9.2 in /usr/local/lib/python3.7/dist-packages (from tensorflow) (3.17.3)\n",
            "Requirement already satisfied: gast>=0.2.1 in /usr/local/lib/python3.7/dist-packages (from tensorflow) (0.5.3)\n",
            "Requirement already satisfied: absl-py>=0.4.0 in /usr/local/lib/python3.7/dist-packages (from tensorflow) (1.2.0)\n",
            "Requirement already satisfied: astunparse>=1.6.0 in /usr/local/lib/python3.7/dist-packages (from tensorflow) (1.6.3)\n",
            "Requirement already satisfied: tensorflow-estimator<2.9,>=2.8 in /usr/local/lib/python3.7/dist-packages (from tensorflow) (2.8.0)\n",
            "Requirement already satisfied: keras-preprocessing>=1.1.1 in /usr/local/lib/python3.7/dist-packages (from tensorflow) (1.1.2)\n",
            "Requirement already satisfied: tensorflow-io-gcs-filesystem>=0.23.1 in /usr/local/lib/python3.7/dist-packages (from tensorflow) (0.26.0)\n",
            "Requirement already satisfied: keras<2.9,>=2.8.0rc0 in /usr/local/lib/python3.7/dist-packages (from tensorflow) (2.8.0)\n",
            "Requirement already satisfied: setuptools in /usr/local/lib/python3.7/dist-packages (from tensorflow) (57.4.0)\n",
            "Requirement already satisfied: opt-einsum>=2.3.2 in /usr/local/lib/python3.7/dist-packages (from tensorflow) (3.3.0)\n",
            "Requirement already satisfied: flatbuffers>=1.12 in /usr/local/lib/python3.7/dist-packages (from tensorflow) (2.0)\n",
            "Requirement already satisfied: termcolor>=1.1.0 in /usr/local/lib/python3.7/dist-packages (from tensorflow) (1.1.0)\n",
            "Requirement already satisfied: google-pasta>=0.1.1 in /usr/local/lib/python3.7/dist-packages (from tensorflow) (0.2.0)\n",
            "Requirement already satisfied: tensorboard<2.9,>=2.8 in /usr/local/lib/python3.7/dist-packages (from tensorflow) (2.8.0)\n",
            "Requirement already satisfied: libclang>=9.0.1 in /usr/local/lib/python3.7/dist-packages (from tensorflow) (14.0.6)\n",
            "Requirement already satisfied: six>=1.12.0 in /usr/local/lib/python3.7/dist-packages (from tensorflow) (1.15.0)\n",
            "Requirement already satisfied: grpcio<2.0,>=1.24.3 in /usr/local/lib/python3.7/dist-packages (from tensorflow) (1.47.0)\n",
            "Requirement already satisfied: wrapt>=1.11.0 in /usr/local/lib/python3.7/dist-packages (from tensorflow) (1.14.1)\n",
            "Requirement already satisfied: numpy>=1.20 in /usr/local/lib/python3.7/dist-packages (from tensorflow) (1.21.6)\n",
            "Requirement already satisfied: typing-extensions>=3.6.6 in /usr/local/lib/python3.7/dist-packages (from tensorflow) (4.1.1)\n",
            "Requirement already satisfied: wheel<1.0,>=0.23.0 in /usr/local/lib/python3.7/dist-packages (from astunparse>=1.6.0->tensorflow) (0.37.1)\n",
            "Requirement already satisfied: cached-property in /usr/local/lib/python3.7/dist-packages (from h5py>=2.9.0->tensorflow) (1.5.2)\n",
            "Requirement already satisfied: werkzeug>=0.11.15 in /usr/local/lib/python3.7/dist-packages (from tensorboard<2.9,>=2.8->tensorflow) (1.0.1)\n",
            "Requirement already satisfied: google-auth<3,>=1.6.3 in /usr/local/lib/python3.7/dist-packages (from tensorboard<2.9,>=2.8->tensorflow) (1.35.0)\n",
            "Requirement already satisfied: requests<3,>=2.21.0 in /usr/local/lib/python3.7/dist-packages (from tensorboard<2.9,>=2.8->tensorflow) (2.23.0)\n",
            "Requirement already satisfied: tensorboard-plugin-wit>=1.6.0 in /usr/local/lib/python3.7/dist-packages (from tensorboard<2.9,>=2.8->tensorflow) (1.8.1)\n",
            "Requirement already satisfied: tensorboard-data-server<0.7.0,>=0.6.0 in /usr/local/lib/python3.7/dist-packages (from tensorboard<2.9,>=2.8->tensorflow) (0.6.1)\n",
            "Requirement already satisfied: markdown>=2.6.8 in /usr/local/lib/python3.7/dist-packages (from tensorboard<2.9,>=2.8->tensorflow) (3.4.1)\n",
            "Requirement already satisfied: google-auth-oauthlib<0.5,>=0.4.1 in /usr/local/lib/python3.7/dist-packages (from tensorboard<2.9,>=2.8->tensorflow) (0.4.6)\n",
            "Requirement already satisfied: cachetools<5.0,>=2.0.0 in /usr/local/lib/python3.7/dist-packages (from google-auth<3,>=1.6.3->tensorboard<2.9,>=2.8->tensorflow) (4.2.4)\n",
            "Requirement already satisfied: rsa<5,>=3.1.4 in /usr/local/lib/python3.7/dist-packages (from google-auth<3,>=1.6.3->tensorboard<2.9,>=2.8->tensorflow) (4.9)\n",
            "Requirement already satisfied: pyasn1-modules>=0.2.1 in /usr/local/lib/python3.7/dist-packages (from google-auth<3,>=1.6.3->tensorboard<2.9,>=2.8->tensorflow) (0.2.8)\n",
            "Requirement already satisfied: requests-oauthlib>=0.7.0 in /usr/local/lib/python3.7/dist-packages (from google-auth-oauthlib<0.5,>=0.4.1->tensorboard<2.9,>=2.8->tensorflow) (1.3.1)\n",
            "Requirement already satisfied: importlib-metadata>=4.4 in /usr/local/lib/python3.7/dist-packages (from markdown>=2.6.8->tensorboard<2.9,>=2.8->tensorflow) (4.12.0)\n",
            "Requirement already satisfied: zipp>=0.5 in /usr/local/lib/python3.7/dist-packages (from importlib-metadata>=4.4->markdown>=2.6.8->tensorboard<2.9,>=2.8->tensorflow) (3.8.1)\n",
            "Requirement already satisfied: pyasn1<0.5.0,>=0.4.6 in /usr/local/lib/python3.7/dist-packages (from pyasn1-modules>=0.2.1->google-auth<3,>=1.6.3->tensorboard<2.9,>=2.8->tensorflow) (0.4.8)\n",
            "Requirement already satisfied: idna<3,>=2.5 in /usr/local/lib/python3.7/dist-packages (from requests<3,>=2.21.0->tensorboard<2.9,>=2.8->tensorflow) (2.10)\n",
            "Requirement already satisfied: urllib3!=1.25.0,!=1.25.1,<1.26,>=1.21.1 in /usr/local/lib/python3.7/dist-packages (from requests<3,>=2.21.0->tensorboard<2.9,>=2.8->tensorflow) (1.24.3)\n",
            "Requirement already satisfied: chardet<4,>=3.0.2 in /usr/local/lib/python3.7/dist-packages (from requests<3,>=2.21.0->tensorboard<2.9,>=2.8->tensorflow) (3.0.4)\n",
            "Requirement already satisfied: certifi>=2017.4.17 in /usr/local/lib/python3.7/dist-packages (from requests<3,>=2.21.0->tensorboard<2.9,>=2.8->tensorflow) (2022.6.15)\n",
            "Requirement already satisfied: oauthlib>=3.0.0 in /usr/local/lib/python3.7/dist-packages (from requests-oauthlib>=0.7.0->google-auth-oauthlib<0.5,>=0.4.1->tensorboard<2.9,>=2.8->tensorflow) (3.2.0)\n"
          ]
        }
      ],
      "source": [
        "pip install tensorflow"
      ]
    },
    {
      "cell_type": "code",
      "execution_count": 24,
      "metadata": {
        "id": "dUZIS8cXy-Lw"
      },
      "outputs": [],
      "source": [
        "### Create the Stacked LSTM model\n",
        "\n",
        "from tensorflow.keras.models import Sequential\n",
        "from tensorflow.keras.layers import Dense\n",
        "from tensorflow.keras.layers import LSTM"
      ]
    },
    {
      "cell_type": "code",
      "execution_count": 25,
      "metadata": {
        "id": "o33yVNQuzB1v"
      },
      "outputs": [],
      "source": [
        "model=Sequential()\n",
        "model.add(LSTM(50,return_sequences=True,input_shape=(15,1)))\n",
        "model.add(LSTM(50,return_sequences=True))\n",
        "model.add(LSTM(50))\n",
        "model.add(Dense(1))\n",
        "model.compile(loss='mean_squared_error',optimizer='adam')"
      ]
    },
    {
      "cell_type": "code",
      "execution_count": 26,
      "metadata": {
        "colab": {
          "base_uri": "https://localhost:8080/"
        },
        "id": "Nar1_BiDzSib",
        "outputId": "064157b7-b742-4bd0-deb7-8beac738c0d1"
      },
      "outputs": [
        {
          "output_type": "stream",
          "name": "stdout",
          "text": [
            "Model: \"sequential\"\n",
            "_________________________________________________________________\n",
            " Layer (type)                Output Shape              Param #   \n",
            "=================================================================\n",
            " lstm (LSTM)                 (None, 15, 50)            10400     \n",
            "                                                                 \n",
            " lstm_1 (LSTM)               (None, 15, 50)            20200     \n",
            "                                                                 \n",
            " lstm_2 (LSTM)               (None, 50)                20200     \n",
            "                                                                 \n",
            " dense (Dense)               (None, 1)                 51        \n",
            "                                                                 \n",
            "=================================================================\n",
            "Total params: 50,851\n",
            "Trainable params: 50,851\n",
            "Non-trainable params: 0\n",
            "_________________________________________________________________\n"
          ]
        }
      ],
      "source": [
        "model.summary()"
      ]
    },
    {
      "cell_type": "code",
      "execution_count": 27,
      "metadata": {
        "colab": {
          "base_uri": "https://localhost:8080/"
        },
        "id": "JRLNVjh-zkMF",
        "outputId": "020390c4-f0c1-46fe-e528-fc5d5f7afba3"
      },
      "outputs": [
        {
          "output_type": "stream",
          "name": "stdout",
          "text": [
            "Epoch 1/50\n",
            "117/117 [==============================] - 7s 27ms/step - loss: 0.0028 - val_loss: 0.0012\n",
            "Epoch 2/50\n",
            "117/117 [==============================] - 3s 27ms/step - loss: 1.5931e-04 - val_loss: 0.0012\n",
            "Epoch 3/50\n",
            "117/117 [==============================] - 3s 28ms/step - loss: 1.8216e-04 - val_loss: 0.0012\n",
            "Epoch 4/50\n",
            "117/117 [==============================] - 3s 27ms/step - loss: 1.8394e-04 - val_loss: 0.0019\n",
            "Epoch 5/50\n",
            "117/117 [==============================] - 4s 32ms/step - loss: 1.9826e-04 - val_loss: 0.0014\n",
            "Epoch 6/50\n",
            "117/117 [==============================] - 4s 35ms/step - loss: 1.6678e-04 - val_loss: 0.0025\n",
            "Epoch 7/50\n",
            "117/117 [==============================] - 4s 30ms/step - loss: 1.5320e-04 - val_loss: 0.0012\n",
            "Epoch 8/50\n",
            "117/117 [==============================] - 3s 24ms/step - loss: 1.7873e-04 - val_loss: 0.0011\n",
            "Epoch 9/50\n",
            "117/117 [==============================] - 2s 17ms/step - loss: 1.8498e-04 - val_loss: 0.0012\n",
            "Epoch 10/50\n",
            "117/117 [==============================] - 2s 18ms/step - loss: 1.8237e-04 - val_loss: 0.0023\n",
            "Epoch 11/50\n",
            "117/117 [==============================] - 2s 18ms/step - loss: 1.6120e-04 - val_loss: 0.0025\n",
            "Epoch 12/50\n",
            "117/117 [==============================] - 2s 17ms/step - loss: 1.3036e-04 - val_loss: 0.0027\n",
            "Epoch 13/50\n",
            "117/117 [==============================] - 2s 18ms/step - loss: 1.4518e-04 - val_loss: 0.0013\n",
            "Epoch 14/50\n",
            "117/117 [==============================] - 2s 17ms/step - loss: 1.4292e-04 - val_loss: 8.4555e-04\n",
            "Epoch 15/50\n",
            "117/117 [==============================] - 2s 17ms/step - loss: 1.2898e-04 - val_loss: 7.6578e-04\n",
            "Epoch 16/50\n",
            "117/117 [==============================] - 2s 18ms/step - loss: 1.0885e-04 - val_loss: 0.0013\n",
            "Epoch 17/50\n",
            "117/117 [==============================] - 2s 17ms/step - loss: 1.0481e-04 - val_loss: 0.0010\n",
            "Epoch 18/50\n",
            "117/117 [==============================] - 2s 17ms/step - loss: 1.1323e-04 - val_loss: 7.2781e-04\n",
            "Epoch 19/50\n",
            "117/117 [==============================] - 2s 17ms/step - loss: 1.1594e-04 - val_loss: 0.0052\n",
            "Epoch 20/50\n",
            "117/117 [==============================] - 2s 19ms/step - loss: 1.3786e-04 - val_loss: 0.0025\n",
            "Epoch 21/50\n",
            "117/117 [==============================] - 2s 18ms/step - loss: 1.0361e-04 - val_loss: 5.4374e-04\n",
            "Epoch 22/50\n",
            "117/117 [==============================] - 2s 18ms/step - loss: 1.0802e-04 - val_loss: 7.4776e-04\n",
            "Epoch 23/50\n",
            "117/117 [==============================] - 2s 18ms/step - loss: 1.0684e-04 - val_loss: 4.6985e-04\n",
            "Epoch 24/50\n",
            "117/117 [==============================] - 2s 21ms/step - loss: 8.3826e-05 - val_loss: 0.0011\n",
            "Epoch 25/50\n",
            "117/117 [==============================] - 2s 20ms/step - loss: 1.1637e-04 - val_loss: 4.3860e-04\n",
            "Epoch 26/50\n",
            "117/117 [==============================] - 2s 17ms/step - loss: 8.3303e-05 - val_loss: 3.9765e-04\n",
            "Epoch 27/50\n",
            "117/117 [==============================] - 2s 17ms/step - loss: 8.0734e-05 - val_loss: 3.6287e-04\n",
            "Epoch 28/50\n",
            "117/117 [==============================] - 2s 17ms/step - loss: 6.7450e-05 - val_loss: 9.7355e-04\n",
            "Epoch 29/50\n",
            "117/117 [==============================] - 2s 18ms/step - loss: 9.0685e-05 - val_loss: 3.8323e-04\n",
            "Epoch 30/50\n",
            "117/117 [==============================] - 2s 17ms/step - loss: 7.3438e-05 - val_loss: 7.3591e-04\n",
            "Epoch 31/50\n",
            "117/117 [==============================] - 2s 17ms/step - loss: 8.6469e-05 - val_loss: 2.9051e-04\n",
            "Epoch 32/50\n",
            "117/117 [==============================] - 2s 17ms/step - loss: 5.7375e-05 - val_loss: 7.1464e-04\n",
            "Epoch 33/50\n",
            "117/117 [==============================] - 2s 17ms/step - loss: 6.1454e-05 - val_loss: 5.5032e-04\n",
            "Epoch 34/50\n",
            "117/117 [==============================] - 2s 18ms/step - loss: 5.2509e-05 - val_loss: 4.3782e-04\n",
            "Epoch 35/50\n",
            "117/117 [==============================] - 2s 18ms/step - loss: 6.0618e-05 - val_loss: 7.8696e-04\n",
            "Epoch 36/50\n",
            "117/117 [==============================] - 2s 18ms/step - loss: 4.9760e-05 - val_loss: 3.0183e-04\n",
            "Epoch 37/50\n",
            "117/117 [==============================] - 2s 18ms/step - loss: 4.6770e-05 - val_loss: 2.7481e-04\n",
            "Epoch 38/50\n",
            "117/117 [==============================] - 2s 18ms/step - loss: 5.0804e-05 - val_loss: 6.4694e-04\n",
            "Epoch 39/50\n",
            "117/117 [==============================] - 2s 18ms/step - loss: 4.5668e-05 - val_loss: 5.6637e-04\n",
            "Epoch 40/50\n",
            "117/117 [==============================] - 2s 17ms/step - loss: 5.1235e-05 - val_loss: 4.2613e-04\n",
            "Epoch 41/50\n",
            "117/117 [==============================] - 2s 17ms/step - loss: 4.6112e-05 - val_loss: 7.0484e-04\n",
            "Epoch 42/50\n",
            "117/117 [==============================] - 2s 18ms/step - loss: 4.1447e-05 - val_loss: 7.4410e-04\n",
            "Epoch 43/50\n",
            "117/117 [==============================] - 2s 18ms/step - loss: 4.2052e-05 - val_loss: 9.2336e-04\n",
            "Epoch 44/50\n",
            "117/117 [==============================] - 2s 18ms/step - loss: 4.5250e-05 - val_loss: 2.9854e-04\n",
            "Epoch 45/50\n",
            "117/117 [==============================] - 2s 17ms/step - loss: 3.8599e-05 - val_loss: 2.9106e-04\n",
            "Epoch 46/50\n",
            "117/117 [==============================] - 2s 17ms/step - loss: 4.1908e-05 - val_loss: 8.6788e-04\n",
            "Epoch 47/50\n",
            "117/117 [==============================] - 2s 18ms/step - loss: 3.4980e-05 - val_loss: 4.8068e-04\n",
            "Epoch 48/50\n",
            "117/117 [==============================] - 2s 18ms/step - loss: 4.2222e-05 - val_loss: 3.7144e-04\n",
            "Epoch 49/50\n",
            "117/117 [==============================] - 2s 17ms/step - loss: 3.8051e-05 - val_loss: 3.8584e-04\n",
            "Epoch 50/50\n",
            "117/117 [==============================] - 2s 18ms/step - loss: 3.8854e-05 - val_loss: 2.5247e-04\n"
          ]
        },
        {
          "output_type": "execute_result",
          "data": {
            "text/plain": [
              "<keras.callbacks.History at 0x7f3e8b3b4410>"
            ]
          },
          "metadata": {},
          "execution_count": 27
        }
      ],
      "source": [
        "model.fit(X_train,y_train,validation_data=(X_test,ytest),epochs=50,batch_size=15,verbose=1)"
      ]
    },
    {
      "cell_type": "code",
      "execution_count": 29,
      "metadata": {
        "id": "eSLX862j0PNK"
      },
      "outputs": [],
      "source": [
        "### Lets Do the prediction and check performance metrics\n",
        "train_predict=model.predict(X_train)\n",
        "test_predict=model.predict(X_test)"
      ]
    },
    {
      "cell_type": "code",
      "execution_count": 30,
      "metadata": {
        "colab": {
          "base_uri": "https://localhost:8080/"
        },
        "id": "lSeX81Hq0SGc",
        "outputId": "b4a8dcb7-0d18-4d35-fe06-5817d6a6871a"
      },
      "outputs": [
        {
          "output_type": "stream",
          "name": "stdout",
          "text": [
            "[[1369.3112]\n",
            " [1375.7266]\n",
            " [1374.9395]\n",
            " ...\n",
            " [2976.1821]\n",
            " [2976.8516]\n",
            " [2967.3323]]\n"
          ]
        }
      ],
      "source": [
        "##Transformback to original form\n",
        "train_predict=scaler.inverse_transform(train_predict)\n",
        "test_predict=scaler.inverse_transform(test_predict)\n",
        "print(train_predict)\n"
      ]
    },
    {
      "cell_type": "code",
      "execution_count": 31,
      "metadata": {
        "colab": {
          "base_uri": "https://localhost:8080/"
        },
        "id": "rcgPsRhaBdFs",
        "outputId": "0874f6ca-e61c-4228-8de0-d9c6329c3c83"
      },
      "outputs": [
        {
          "output_type": "execute_result",
          "data": {
            "text/plain": [
              "array([[3012.624 ],\n",
              "       [3001.5698],\n",
              "       [3006.9148],\n",
              "       [3029.8064],\n",
              "       [3048.298 ],\n",
              "       [3034.0898],\n",
              "       [3047.098 ],\n",
              "       [3046.789 ],\n",
              "       [3036.8887],\n",
              "       [3003.7722],\n",
              "       [2972.8232],\n",
              "       [2951.8625],\n",
              "       [2874.633 ],\n",
              "       [2893.5889],\n",
              "       [2915.5903],\n",
              "       [2969.8877],\n",
              "       [2964.2659],\n",
              "       [2919.4539],\n",
              "       [2943.4526],\n",
              "       [2878.5251],\n",
              "       [2862.8113],\n",
              "       [2905.204 ],\n",
              "       [2952.7766],\n",
              "       [2939.5557],\n",
              "       [2947.9138],\n",
              "       [2948.6135],\n",
              "       [2878.0894],\n",
              "       [2885.907 ],\n",
              "       [2891.9717],\n",
              "       [2911.3254],\n",
              "       [2949.9602],\n",
              "       [2959.531 ],\n",
              "       [2936.3765],\n",
              "       [2954.6572],\n",
              "       [2996.8594],\n",
              "       [3007.5627],\n",
              "       [3002.3552],\n",
              "       [2998.589 ],\n",
              "       [3017.379 ],\n",
              "       [3030.94  ],\n",
              "       [3029.817 ],\n",
              "       [3018.8306],\n",
              "       [3023.557 ],\n",
              "       [3028.0903],\n",
              "       [3029.5059],\n",
              "       [3016.1936],\n",
              "       [3012.9268],\n",
              "       [2991.565 ],\n",
              "       [3004.494 ],\n",
              "       [3005.3809],\n",
              "       [2989.8262],\n",
              "       [2999.6406],\n",
              "       [2971.0635],\n",
              "       [2914.5596],\n",
              "       [2925.4785],\n",
              "       [2975.996 ],\n",
              "       [2977.857 ],\n",
              "       [2928.671 ],\n",
              "       [2937.1294],\n",
              "       [2962.9438],\n",
              "       [2998.0027],\n",
              "       [2999.1167],\n",
              "       [3019.0356],\n",
              "       [3016.3184],\n",
              "       [3018.3564],\n",
              "       [3007.4485],\n",
              "       [3023.1174],\n",
              "       [3019.4197],\n",
              "       [3024.7441],\n",
              "       [3032.5269],\n",
              "       [3045.4175],\n",
              "       [3063.3154],\n",
              "       [3063.0898],\n",
              "       [3068.834 ],\n",
              "       [3060.8804],\n",
              "       [3085.4158],\n",
              "       [3103.2654],\n",
              "       [3100.063 ],\n",
              "       [3097.9734],\n",
              "       [3105.337 ],\n",
              "       [3114.867 ],\n",
              "       [3110.3545],\n",
              "       [3112.6912],\n",
              "       [3116.1653],\n",
              "       [3119.4307],\n",
              "       [3142.8005],\n",
              "       [3148.965 ],\n",
              "       [3144.4927],\n",
              "       [3130.4595],\n",
              "       [3123.0688],\n",
              "       [3130.5955],\n",
              "       [3156.8958],\n",
              "       [3168.7766],\n",
              "       [3179.654 ],\n",
              "       [3166.496 ],\n",
              "       [3134.6016],\n",
              "       [3109.8174],\n",
              "       [3129.5066],\n",
              "       [3144.2383],\n",
              "       [3173.6958],\n",
              "       [3167.904 ],\n",
              "       [3157.4373],\n",
              "       [3163.3115],\n",
              "       [3191.558 ],\n",
              "       [3196.4692],\n",
              "       [3214.644 ],\n",
              "       [3217.1936],\n",
              "       [3212.3252],\n",
              "       [3224.1272],\n",
              "       [3242.565 ],\n",
              "       [3247.1514],\n",
              "       [3244.3582],\n",
              "       [3259.1646],\n",
              "       [3262.2458],\n",
              "       [3241.9348],\n",
              "       [3247.489 ],\n",
              "       [3279.2117],\n",
              "       [3261.9192],\n",
              "       [3265.767 ],\n",
              "       [3259.4077],\n",
              "       [3273.8481],\n",
              "       [3299.4016],\n",
              "       [3292.1748],\n",
              "       [3309.2507],\n",
              "       [3306.8503],\n",
              "       [3309.3494],\n",
              "       [3337.454 ],\n",
              "       [3354.3484],\n",
              "       [3343.0774],\n",
              "       [3338.535 ],\n",
              "       [3342.6455],\n",
              "       [3313.6191],\n",
              "       [3257.0662],\n",
              "       [3287.649 ],\n",
              "       [3301.2896],\n",
              "       [3312.5273],\n",
              "       [3253.7773],\n",
              "       [3265.5144],\n",
              "       [3325.0708],\n",
              "       [3371.9258],\n",
              "       [3380.2275],\n",
              "       [3351.2407],\n",
              "       [3366.071 ],\n",
              "       [3376.244 ],\n",
              "       [3397.9575],\n",
              "       [3393.8032],\n",
              "       [3396.1047],\n",
              "       [3386.5022],\n",
              "       [3401.8003],\n",
              "       [3392.7795],\n",
              "       [3353.5112],\n",
              "       [3235.556 ],\n",
              "       [3129.4333],\n",
              "       [3124.1528],\n",
              "       [3013.623 ],\n",
              "       [2979.0693],\n",
              "       [3121.0303],\n",
              "       [3080.5642],\n",
              "       [3168.8242],\n",
              "       [3086.6592],\n",
              "       [2999.6484],\n",
              "       [2780.7764],\n",
              "       [2861.8843],\n",
              "       [2797.0889],\n",
              "       [2554.4329],\n",
              "       [2680.266 ],\n",
              "       [2574.8384],\n",
              "       [2561.7385],\n",
              "       [2533.3108],\n",
              "       [2522.5706],\n",
              "       [2520.9368],\n",
              "       [2519.177 ],\n",
              "       [2515.7732],\n",
              "       [2511.2273],\n",
              "       [2622.0242],\n",
              "       [2600.6277],\n",
              "       [2633.8716],\n",
              "       [2615.3962],\n",
              "       [2517.1084],\n",
              "       [2518.0789],\n",
              "       [2507.2927],\n",
              "       [2638.3074],\n",
              "       [2696.2295],\n",
              "       [2767.6782],\n",
              "       [2814.9702],\n",
              "       [2791.0146],\n",
              "       [2841.237 ],\n",
              "       [2806.9133],\n",
              "       [2800.5166],\n",
              "       [2869.5234],\n",
              "       [2851.038 ],\n",
              "       [2761.4265],\n",
              "       [2791.3652],\n",
              "       [2816.9722],\n",
              "       [2857.3352],\n",
              "       [2904.35  ],\n",
              "       [2898.3608],\n",
              "       [2953.8223],\n",
              "       [2944.6494],\n",
              "       [2858.1523],\n",
              "       [2844.7122],\n",
              "       [2877.9443],\n",
              "       [2875.9822],\n",
              "       [2901.6177],\n",
              "       [2953.4514],\n",
              "       [2964.5205],\n",
              "       [2903.563 ],\n",
              "       [2838.4207],\n",
              "       [2857.5818],\n",
              "       [2885.6448],\n",
              "       [2973.945 ],\n",
              "       [2968.577 ],\n",
              "       [2994.2026],\n",
              "       [2977.571 ],\n",
              "       [2972.509 ],\n",
              "       [3005.6472],\n",
              "       [3056.211 ],\n",
              "       [3058.325 ],\n",
              "       [3063.2612],\n",
              "       [3073.21  ],\n",
              "       [3097.7385],\n",
              "       [3141.9985],\n",
              "       [3138.2366],\n",
              "       [3208.0793],\n",
              "       [3260.084 ],\n",
              "       [3232.8354],\n",
              "       [3199.6475],\n",
              "       [3012.5874],\n",
              "       [3022.226 ],\n",
              "       [3082.4143],\n",
              "       [3159.949 ],\n",
              "       [3161.8188],\n",
              "       [3150.1028],\n",
              "       [3125.7375],\n",
              "       [3138.4177],\n",
              "       [3156.5762],\n",
              "       [3080.3442],\n",
              "       [3093.5088],\n",
              "       [3037.4302],\n",
              "       [3067.3208],\n",
              "       [3129.5715],\n",
              "       [3155.6628],\n",
              "       [3164.0156],\n",
              "       [3205.9011],\n",
              "       [3175.9463],\n",
              "       [3184.1716],\n",
              "       [3171.016 ],\n",
              "       [3199.4749],\n",
              "       [3178.9177],\n",
              "       [3212.9775],\n",
              "       [3251.9558],\n",
              "       [3243.588 ],\n",
              "       [3243.9282],\n",
              "       [3270.7517],\n",
              "       [3280.489 ],\n",
              "       [3296.6064],\n",
              "       [3256.5115],\n",
              "       [3226.8633],\n",
              "       [3252.3164],\n",
              "       [3242.9993],\n",
              "       [3280.1865],\n",
              "       [3276.7124],\n",
              "       [3295.203 ],\n",
              "       [3321.14  ],\n",
              "       [3333.1575],\n",
              "       [3350.789 ],\n",
              "       [3371.362 ],\n",
              "       [3372.058 ],\n",
              "       [3376.823 ],\n",
              "       [3348.701 ],\n",
              "       [3392.1777],\n",
              "       [3396.5579],\n",
              "       [3391.2896],\n",
              "       [3399.128 ],\n",
              "       [3409.0242],\n",
              "       [3393.977 ],\n",
              "       [3401.8572],\n",
              "       [3417.6128],\n",
              "       [3454.8586],\n",
              "       [3470.0398],\n",
              "       [3501.6838],\n",
              "       [3506.5044],\n",
              "       [3524.4187],\n",
              "       [3514.9043],\n",
              "       [3538.0818],\n",
              "       [3599.585 ],\n",
              "       [3466.408 ],\n",
              "       [3414.8005],\n",
              "       [3329.906 ],\n",
              "       [3406.7883],\n",
              "       [3375.1187],\n",
              "       [3368.283 ],\n",
              "       [3416.8413],\n",
              "       [3442.2122],\n",
              "       [3419.4272],\n",
              "       [3378.315 ],\n",
              "       [3333.7576],\n",
              "       [3294.01  ],\n",
              "       [3332.9495],\n",
              "       [3267.8674],\n",
              "       [3265.1057],\n",
              "       [3327.7556],\n",
              "       [3393.9666],\n",
              "       [3377.0098],\n",
              "       [3387.334 ],\n",
              "       [3403.8252],\n",
              "       [3367.711 ],\n",
              "       [3420.7012],\n",
              "       [3383.3086],\n",
              "       [3431.7683],\n",
              "       [3472.3132],\n",
              "       [3502.214 ],\n",
              "       [3558.0254],\n",
              "       [3532.3176],\n",
              "       [3492.4175],\n",
              "       [3484.004 ],\n",
              "       [3491.2466],\n",
              "       [3436.786 ],\n",
              "       [3451.2537],\n",
              "       [3456.3594],\n",
              "       [3477.6404],\n",
              "       [3493.303 ],\n",
              "       [3422.9255],\n",
              "       [3400.673 ],\n",
              "       [3283.3525],\n",
              "       [3316.4287],\n",
              "       [3301.8076],\n",
              "       [3342.0208],\n",
              "       [3412.1167],\n",
              "       [3491.9277],\n",
              "       [3556.7944],\n",
              "       [3541.961 ],\n",
              "       [3563.2122],\n",
              "       [3554.1543],\n",
              "       [3575.8677],\n",
              "       [3540.09  ],\n",
              "       [3587.0522],\n",
              "       [3644.2842],\n",
              "       [3625.5896],\n",
              "       [3569.26  ],\n",
              "       [3581.9185],\n",
              "       [3566.9507],\n",
              "       [3590.2969],\n",
              "       [3660.404 ],\n",
              "       [3657.3352],\n",
              "       [3653.8848],\n",
              "       [3631.2402],\n",
              "       [3672.9858],\n",
              "       [3686.2585],\n",
              "       [3678.6335],\n",
              "       [3710.708 ],\n",
              "       [3704.5764],\n",
              "       [3710.2944],\n",
              "       [3677.6514],\n",
              "       [3670.2007],\n",
              "       [3670.969 ],\n",
              "       [3657.442 ],\n",
              "       [3711.4119],\n",
              "       [3725.111 ],\n",
              "       [3741.1775],\n",
              "       [3721.9075],\n",
              "       [3699.2615],\n",
              "       [3690.9055],\n",
              "       [3698.0125],\n",
              "       [3716.5437],\n",
              "       [3754.1885],\n",
              "       [3743.7961],\n",
              "       [3741.2788],\n",
              "       [3767.035 ],\n",
              "       [3705.1714],\n",
              "       [3728.1318],\n",
              "       [3762.706 ],\n",
              "       [3826.038 ],\n",
              "       [3846.408 ],\n",
              "       [3804.8938],\n",
              "       [3796.8445],\n",
              "       [3810.1218],\n",
              "       [3797.1516],\n",
              "       [3766.018 ],\n",
              "       [3803.7263],\n",
              "       [3872.1145],\n",
              "       [3871.4185],\n",
              "       [3844.9612],\n",
              "       [3855.442 ],\n",
              "       [3851.0525],\n",
              "       [3736.8992],\n",
              "       [3779.2258],\n",
              "       [3718.158 ],\n",
              "       [3785.5083],\n",
              "       [3859.4785],\n",
              "       [3857.6472],\n",
              "       [3888.4773],\n",
              "       [3898.6865],\n",
              "       [3921.4895],\n",
              "       [3910.4695],\n",
              "       [3902.3076],\n",
              "       [3909.9766],\n",
              "       [3933.6353],\n",
              "       [3931.7214],\n",
              "       [3927.4858],\n",
              "       [3907.6084],\n",
              "       [3900.756 ],\n",
              "       [3870.7166],\n",
              "       [3880.3582],\n",
              "       [3938.7012],\n",
              "       [3828.743 ],\n",
              "       [3798.8306],\n",
              "       [3918.346 ],\n",
              "       [3893.2334],\n",
              "       [3817.8865],\n",
              "       [3757.2544],\n",
              "       [3851.436 ],\n",
              "       [3843.7415],\n",
              "       [3894.472 ],\n",
              "       [3919.4534],\n",
              "       [3954.2148],\n",
              "       [3948.9895],\n",
              "       [3967.44  ],\n",
              "       [3956.4785],\n",
              "       [3965.2148],\n",
              "       [3898.0417],\n",
              "       [3896.39  ],\n",
              "       [3941.846 ],\n",
              "       [3913.105 ],\n",
              "       [3884.495 ],\n",
              "       [3912.5356],\n",
              "       [3993.8367],\n",
              "       [3986.6765],\n",
              "       [3956.075 ],\n",
              "       [3967.6565],\n",
              "       [4024.4094],\n",
              "       [4090.1096],\n",
              "       [4073.7527],\n",
              "       [4065.2708],\n",
              "       [4082.4915],\n",
              "       [4119.624 ],\n",
              "       [4115.489 ],\n",
              "       [4125.594 ],\n",
              "       [4104.378 ],\n",
              "       [4158.5493],\n",
              "       [4178.487 ],\n",
              "       [4143.4976],\n",
              "       [4105.858 ],\n",
              "       [4158.438 ],\n",
              "       [4119.088 ],\n",
              "       [4170.4253],\n",
              "       [4182.819 ],\n",
              "       [4173.765 ],\n",
              "       [4165.1074],\n",
              "       [4198.7354],\n",
              "       [4161.6855],\n",
              "       [4172.3823],\n",
              "       [4143.2847],\n",
              "       [4148.8564],\n",
              "       [4195.463 ],\n",
              "       [4231.5503],\n",
              "       [4168.5054],\n",
              "       [4118.71  ],\n",
              "       [4021.999 ],\n",
              "       [4099.0093],\n",
              "       [4191.71  ],\n",
              "       [4170.755 ],\n",
              "       [4110.8877],\n",
              "       [4094.3372],\n",
              "       [4153.984 ],\n",
              "       [4152.797 ],\n",
              "       [4193.671 ],\n",
              "       [4177.683 ],\n",
              "       [4178.223 ],\n",
              "       [4182.887 ],\n",
              "       [4185.711 ],\n",
              "       [4182.4717],\n",
              "       [4189.8125],\n",
              "       [4172.1357],\n",
              "       [4217.285 ],\n",
              "       [4213.981 ],\n",
              "       [4208.301 ],\n",
              "       [4197.5728],\n",
              "       [4222.0303],\n",
              "       [4232.6685],\n",
              "       [4237.966 ],\n",
              "       [4224.235 ],\n",
              "       [4195.323 ],\n",
              "       [4197.002 ],\n",
              "       [4136.5684],\n",
              "       [4213.8853],\n",
              "       [4247.997 ],\n",
              "       [4231.1274],\n",
              "       [4251.8555],\n",
              "       [4265.2817],\n",
              "       [4270.7036],\n",
              "       [4266.97  ],\n",
              "       [4271.225 ],\n",
              "       [4297.885 ],\n",
              "       [4334.728 ],\n",
              "       [4316.5586],\n",
              "       [4327.337 ],\n",
              "       [4281.208 ],\n",
              "       [4342.9355],\n",
              "       [4365.1274],\n",
              "       [4337.156 ],\n",
              "       [4339.467 ],\n",
              "       [4324.3667],\n",
              "       [4286.5376],\n",
              "       [4210.222 ],\n",
              "       [4305.149 ],\n",
              "       [4359.4478],\n",
              "       [4356.0522],\n",
              "       [4395.71  ],\n",
              "       [4397.7827],\n",
              "       [4360.194 ],\n",
              "       [4357.1484],\n",
              "       [4385.0522],\n",
              "       [4356.7295],\n",
              "       [4347.0117],\n",
              "       [4397.0576],\n",
              "       [4371.608 ],\n",
              "       [4399.2993],\n",
              "       [4407.7   ],\n",
              "       [4397.013 ],\n",
              "       [4400.0293],\n",
              "       [4413.6562],\n",
              "       [4428.2056],\n",
              "       [4433.19  ],\n",
              "       [4443.481 ],\n",
              "       [4401.1665],\n",
              "       [4344.068 ],\n",
              "       [4364.4165],\n",
              "       [4420.929 ],\n",
              "       [4464.864 ],\n",
              "       [4459.5303],\n",
              "       [4459.119 ],\n",
              "       [4421.1836],\n",
              "       [4470.7456],\n",
              "       [4495.705 ],\n",
              "       [4479.2524],\n",
              "       [4476.0303],\n",
              "       [4492.5566],\n",
              "       [4489.9287],\n",
              "       [4469.252 ],\n",
              "       [4464.6187],\n",
              "       [4444.1055],\n",
              "       [4407.093 ],\n",
              "       [4429.928 ],\n",
              "       [4405.7344],\n",
              "       [4454.785 ],\n",
              "       [4445.5054],\n",
              "       [4388.015 ],\n",
              "       [4299.103 ],\n",
              "       [4313.5454],\n",
              "       [4383.4067],\n",
              "       [4448.257 ],\n",
              "       [4439.394 ],\n",
              "       [4406.521 ],\n",
              "       [4290.3525],\n",
              "       [4312.513 ],\n",
              "       [4269.7163],\n",
              "       [4340.832 ],\n",
              "       [4277.434 ],\n",
              "       [4329.4956],\n",
              "       [4354.2183],\n",
              "       [4387.8027],\n",
              "       [4365.706 ],\n",
              "       [4319.396 ],\n",
              "       [4309.4995],\n",
              "       [4334.5024],\n",
              "       [4428.7637],\n",
              "       [4459.2812],\n",
              "       [4456.133 ],\n",
              "       [4482.6284],\n",
              "       [4493.8496],\n",
              "       [4501.7803],\n",
              "       [4490.512 ],\n",
              "       [4516.1797],\n",
              "       [4526.1196],\n",
              "       [4493.924 ],\n",
              "       [4551.3916],\n",
              "       [4562.0996],\n",
              "       [4563.515 ],\n",
              "       [4579.79  ],\n",
              "       [4612.6313],\n",
              "       [4628.93  ],\n",
              "       [4640.949 ],\n",
              "       [4638.4805],\n",
              "       [4613.772 ],\n",
              "       [4568.374 ],\n",
              "       [4583.524 ],\n",
              "       [4635.8486],\n",
              "       [4632.5576],\n",
              "       [4647.512 ],\n",
              "       [4627.113 ],\n",
              "       [4644.78  ],\n",
              "       [4636.013 ],\n",
              "       [4616.0054],\n",
              "       [4629.507 ],\n",
              "       [4645.656 ],\n",
              "       [4509.502 ],\n",
              "       [4601.5405],\n",
              "       [4504.342 ],\n",
              "       [4443.8135],\n",
              "       [4547.901 ],\n",
              "       [4505.1343],\n",
              "       [4563.7725],\n",
              "       [4675.259 ],\n",
              "       [4666.7505],\n",
              "       [4596.7417],\n",
              "       [4648.542 ],\n",
              "       [4595.588 ],\n",
              "       [4553.491 ],\n",
              "       [4662.97  ],\n",
              "       [4610.794 ],\n",
              "       [4543.6987],\n",
              "       [4491.8545],\n",
              "       [4614.654 ],\n",
              "       [4674.843 ],\n",
              "       [4687.3022],\n",
              "       [4746.8843],\n",
              "       [4719.7334],\n",
              "       [4713.1084],\n",
              "       [4693.4414],\n",
              "       [4681.6294],\n",
              "       [4727.4785],\n",
              "       [4723.781 ],\n",
              "       [4602.8823],\n",
              "       [4615.355 ],\n",
              "       [4613.813 ],\n",
              "       [4614.869 ],\n",
              "       [4673.2686],\n",
              "       [4683.124 ],\n",
              "       [4585.6494],\n",
              "       [4595.814 ],\n",
              "       [4501.317 ],\n",
              "       [4463.428 ],\n",
              "       [4427.02  ],\n",
              "       [4342.6646],\n",
              "       [4382.4614],\n",
              "       [4332.9526],\n",
              "       [4330.5757],\n",
              "       [4309.7573],\n",
              "       [4440.8486],\n",
              "       [4532.558 ],\n",
              "       [4534.825 ],\n",
              "       [4554.9287],\n",
              "       [4397.4272],\n",
              "       [4431.673 ],\n",
              "       [4433.29  ],\n",
              "       [4486.2393],\n",
              "       [4566.517 ],\n",
              "       [4447.7603],\n",
              "       [4337.218 ],\n",
              "       [4344.162 ],\n",
              "       [4456.3125],\n",
              "       [4461.886 ],\n",
              "       [4329.0483],\n",
              "       [4296.305 ],\n",
              "       [4265.1743],\n",
              "       [4185.3228],\n",
              "       [4282.134 ],\n",
              "       [4409.8716],\n",
              "       [4375.7197],\n",
              "       [4265.333 ],\n",
              "       [4363.2603],\n",
              "       [4341.1753],\n",
              "       [4288.214 ],\n",
              "       [4136.6807],\n",
              "       [4123.2285],\n",
              "       [4286.205 ],\n",
              "       [4270.0557],\n",
              "       [4181.8237],\n",
              "       [4143.283 ],\n",
              "       [4263.674 ],\n",
              "       [4380.8413],\n",
              "       [4419.3384],\n",
              "       [4447.5435],\n",
              "       [4420.0586],\n",
              "       [4467.4985],\n",
              "       [4393.872 ],\n",
              "       [4471.9053],\n",
              "       [4505.51  ],\n",
              "       [4534.6523],\n",
              "       [4593.186 ],\n",
              "       [4542.54  ],\n",
              "       [4445.1533],\n",
              "       [4481.7285],\n",
              "       [4545.393 ],\n",
              "       [4471.586 ],\n",
              "       [4417.7007],\n",
              "       [4458.615 ],\n",
              "       [4453.96  ],\n",
              "       [4359.939 ],\n",
              "       [4352.7896],\n",
              "       [4431.1416],\n",
              "       [4364.921 ],\n",
              "       [4359.0474],\n",
              "       [4452.059 ],\n",
              "       [4441.569 ],\n",
              "       [4343.977 ],\n",
              "       [4197.5786],\n",
              "       [4257.238 ],\n",
              "       [4137.8755],\n",
              "       [4163.8276],\n",
              "       [4311.159 ],\n",
              "       [4116.535 ],\n",
              "       [4132.7183],\n",
              "       [4177.8022],\n",
              "       [4327.0493],\n",
              "       [4126.1855],\n",
              "       [4079.142 ],\n",
              "       [3945.5554],\n",
              "       [3980.928 ],\n",
              "       [3933.5427],\n",
              "       [3936.5813],\n",
              "       [4057.8904],\n",
              "       [4038.6606],\n",
              "       [4110.3164],\n",
              "       [3905.142 ],\n",
              "       [3865.5098],\n",
              "       [3894.9807],\n",
              "       [3995.6465],\n",
              "       [3960.402 ],\n",
              "       [3987.3616],\n",
              "       [4077.737 ],\n",
              "       [4185.77  ],\n",
              "       [4131.7656],\n",
              "       [4067.5654],\n",
              "       [4157.4683],\n",
              "       [4083.3743],\n",
              "       [4092.1174],\n",
              "       [4150.7915],\n",
              "       [4098.7764],\n",
              "       [3977.422 ],\n",
              "       [3852.6973],\n",
              "       [3706.0195],\n",
              "       [3727.022 ],\n",
              "       [3828.915 ],\n",
              "       [3701.4148],\n",
              "       [3695.648 ],\n",
              "       [3810.0847],\n",
              "       [3809.217 ]], dtype=float32)"
            ]
          },
          "metadata": {},
          "execution_count": 31
        }
      ],
      "source": [
        "test_predict"
      ]
    },
    {
      "cell_type": "code",
      "execution_count": 32,
      "metadata": {
        "colab": {
          "base_uri": "https://localhost:8080/"
        },
        "id": "SYknvKlZ0WQr",
        "outputId": "715a88bc-5aca-462e-b200-b9f23e18982c"
      },
      "outputs": [
        {
          "output_type": "execute_result",
          "data": {
            "text/plain": [
              "2205.7516745057924"
            ]
          },
          "metadata": {},
          "execution_count": 32
        }
      ],
      "source": [
        "### Calculate RMSE performance metrics\n",
        "import math\n",
        "from sklearn.metrics import mean_squared_error\n",
        "math.sqrt(mean_squared_error(y_train,train_predict))"
      ]
    },
    {
      "cell_type": "code",
      "execution_count": 33,
      "metadata": {
        "colab": {
          "base_uri": "https://localhost:8080/"
        },
        "id": "RGKT3_uj0Zz4",
        "outputId": "202ac53f-e1a7-4dbf-d789-588b91081d13"
      },
      "outputs": [
        {
          "output_type": "execute_result",
          "data": {
            "text/plain": [
              "3768.3651224285636"
            ]
          },
          "metadata": {},
          "execution_count": 33
        }
      ],
      "source": [
        "### Test Data RMSE\n",
        "math.sqrt(mean_squared_error(ytest,test_predict))"
      ]
    },
    {
      "cell_type": "code",
      "execution_count": 34,
      "metadata": {
        "colab": {
          "base_uri": "https://localhost:8080/",
          "height": 592
        },
        "id": "h4WlnkAN0duI",
        "outputId": "a406af8a-3d14-4450-a1dd-1522460a7ec9"
      },
      "outputs": [
        {
          "output_type": "display_data",
          "data": {
            "text/plain": [
              "<Figure size 1440x720 with 1 Axes>"
            ],
            "image/png": "[encoded data removed]"
          },
          "metadata": {
            "needs_background": "light"
          }
        }
      ],
      "source": [
        "### Plotting \n",
        "# shift train predictions for plotting\n",
        "look_back=15\n",
        "trainPredictPlot = np.empty_like(df1)\n",
        "trainPredictPlot[:, :] = np.nan\n",
        "trainPredictPlot[look_back:len(train_predict)+look_back, :] = train_predict\n",
        "# shift test predictions for plotting\n",
        "testPredictPlot = np.empty_like(df1)\n",
        "testPredictPlot[:, :] = np.nan\n",
        "testPredictPlot[len(train_predict)+(look_back*2)+1:len(df1)-1, :] = test_predict\n",
        "# plot baseline and predictions\n",
        "plt.figure(figsize=(20,10))\n",
        "plt.plot(scaler.inverse_transform(df1),\"b\",label=\"original trend\")\n",
        "plt.plot(trainPredictPlot,\"-r\",label=\"train_prediction\")\n",
        "plt.plot(testPredictPlot,\"g\",label=\"test_prediction\")\n",
        "plt.legend(loc=\"upper left\")\n",
        "plt.show()"
      ]
    },
    {
      "cell_type": "code",
      "execution_count": 35,
      "metadata": {
        "colab": {
          "base_uri": "https://localhost:8080/"
        },
        "id": "W7ItJ_OC1PDA",
        "outputId": "77fbc570-c26f-461c-8f4d-92513bf1765e"
      },
      "outputs": [
        {
          "output_type": "execute_result",
          "data": {
            "text/plain": [
              "755"
            ]
          },
          "metadata": {},
          "execution_count": 35
        }
      ],
      "source": [
        "len(test_data)"
      ]
    },
    {
      "cell_type": "code",
      "execution_count": 44,
      "metadata": {
        "colab": {
          "base_uri": "https://localhost:8080/"
        },
        "id": "aALi6MwW1GWK",
        "outputId": "5ddf311d-31d3-4d63-bc8f-7035bf2dd9a7"
      },
      "outputs": [
        {
          "output_type": "execute_result",
          "data": {
            "text/plain": [
              "array([[0.80158153, 0.80529889, 0.81661822, 0.8036666 , 0.77541874,\n",
              "        0.74168858, 0.69807528, 0.69399456, 0.70971472, 0.67417924,\n",
              "        0.67650655, 0.70244728, 0.70103417, 0.71137009, 0.74482627]])"
            ]
          },
          "metadata": {},
          "execution_count": 44
        }
      ],
      "source": [
        "x_input=test_data[740:].reshape(1,-1)\n",
        "x_input"
      ]
    },
    {
      "cell_type": "code",
      "execution_count": 47,
      "metadata": {
        "colab": {
          "base_uri": "https://localhost:8080/"
        },
        "id": "guhW_CO11fUr",
        "outputId": "438d9ae6-6639-488a-c534-6718c47a022c"
      },
      "outputs": [
        {
          "output_type": "stream",
          "name": "stdout",
          "text": [
            "[array([0.80158153, 0.80529889, 0.81661822, 0.8036666 , 0.77541874,\n",
            "       0.74168858, 0.69807528, 0.69399456, 0.70971472, 0.67417924,\n",
            "       0.67650655, 0.70244728, 0.70103417, 0.71137009, 0.74482627])]\n"
          ]
        },
        {
          "output_type": "execute_result",
          "data": {
            "text/plain": [
              "[0.8015815337763013,\n",
              " 0.8052988879660392,\n",
              " 0.8166182170542635,\n",
              " 0.8036665974529347,\n",
              " 0.7754187430786268,\n",
              " 0.7416885843484682,\n",
              " 0.6980752814691769,\n",
              " 0.6939945551864157,\n",
              " 0.7097147240679216,\n",
              " 0.6741792404946474,\n",
              " 0.6765065522332965,\n",
              " 0.7024472822074566,\n",
              " 0.7010341685123662,\n",
              " 0.7113700858250276,\n",
              " 0.7448262735326687]"
            ]
          },
          "metadata": {},
          "execution_count": 47
        }
      ],
      "source": [
        "temp_input=list(x_input)\n",
        "temp_input=temp_input[0].tolist()\n",
        "temp_input"
      ]
    },
    {
      "cell_type": "code",
      "execution_count": 38,
      "metadata": {
        "colab": {
          "base_uri": "https://localhost:8080/"
        },
        "id": "47wmMykY1qn-",
        "outputId": "7e1f0c7a-ca85-4f66-caf7-a6aa3eb6f9e6"
      },
      "outputs": [
        {
          "output_type": "stream",
          "name": "stdout",
          "text": [
            "[0.75514597]\n",
            "16\n",
            "1 day input [0.80529889 0.81661822 0.8036666  0.77541874 0.74168858 0.69807528\n",
            " 0.69399456 0.70971472 0.67417924 0.67650655 0.70244728 0.70103417\n",
            " 0.71137009 0.74482627 0.75514597]\n",
            "1 day output [[0.76438737]]\n",
            "2 day input [0.81661822 0.8036666  0.77541874 0.74168858 0.69807528 0.69399456\n",
            " 0.70971472 0.67417924 0.67650655 0.70244728 0.70103417 0.71137009\n",
            " 0.74482627 0.75514597 0.76438737]\n",
            "2 day output [[0.76673365]]\n",
            "3 day input [0.8036666  0.77541874 0.74168858 0.69807528 0.69399456 0.70971472\n",
            " 0.67417924 0.67650655 0.70244728 0.70103417 0.71137009 0.74482627\n",
            " 0.75514597 0.76438737 0.76673365]\n",
            "3 day output [[0.764222]]\n",
            "4 day input [0.77541874 0.74168858 0.69807528 0.69399456 0.70971472 0.67417924\n",
            " 0.67650655 0.70244728 0.70103417 0.71137009 0.74482627 0.75514597\n",
            " 0.76438737 0.76673365 0.76422203]\n",
            "4 day output [[0.7584695]]\n",
            "5 day input [0.74168858 0.69807528 0.69399456 0.70971472 0.67417924 0.67650655\n",
            " 0.70244728 0.70103417 0.71137009 0.74482627 0.75514597 0.76438737\n",
            " 0.76673365 0.76422203 0.75846952]\n",
            "5 day output [[0.75139236]]\n",
            "6 day input [0.69807528 0.69399456 0.70971472 0.67417924 0.67650655 0.70244728\n",
            " 0.70103417 0.71137009 0.74482627 0.75514597 0.76438737 0.76673365\n",
            " 0.76422203 0.75846952 0.75139236]\n",
            "6 day output [[0.7447019]]\n",
            "[[0.7551459670066833], [0.7643873691558838], [0.7667336463928223], [0.7642220258712769], [0.7584695219993591], [0.7513923645019531], [0.7447019219398499]]\n"
          ]
        }
      ],
      "source": [
        "# demonstrate prediction for next 7 days\n",
        "from numpy import array\n",
        "\n",
        "lst_output=[]\n",
        "n_steps=15\n",
        "i=0\n",
        "while(i<7):\n",
        "    \n",
        "    if(len(temp_input)>15):\n",
        "        #print(temp_input)\n",
        "        x_input=np.array(temp_input[1:])\n",
        "        print(\"{} day input {}\".format(i,x_input))\n",
        "        x_input=x_input.reshape(1,-1)\n",
        "        x_input = x_input.reshape((1, n_steps, 1))\n",
        "        #print(x_input)\n",
        "        yhat = model.predict(x_input, verbose=0)\n",
        "        print(\"{} day output {}\".format(i,yhat))\n",
        "        temp_input.extend(yhat[0].tolist())\n",
        "        temp_input=temp_input[1:]\n",
        "        #print(temp_input)\n",
        "        lst_output.extend(yhat.tolist())\n",
        "        i=i+1\n",
        "    else:\n",
        "        x_input = x_input.reshape((1, n_steps,1))\n",
        "        yhat = model.predict(x_input, verbose=0)\n",
        "        print(yhat[0])\n",
        "        temp_input.extend(yhat[0].tolist())\n",
        "        print(len(temp_input))\n",
        "        lst_output.extend(yhat.tolist())\n",
        "        i=i+1\n",
        "    \n",
        "\n",
        "print(lst_output)"
      ]
    },
    {
      "cell_type": "code",
      "execution_count": 39,
      "metadata": {
        "id": "Tsv1c1TW2xkl"
      },
      "outputs": [],
      "source": [
        "day_new=np.arange(1,16)\n",
        "day_pred=np.arange(16,23)"
      ]
    },
    {
      "cell_type": "code",
      "execution_count": 40,
      "metadata": {
        "colab": {
          "base_uri": "https://localhost:8080/"
        },
        "id": "YmTbIk7H3U0p",
        "outputId": "f1e3449f-c638-4615-f22e-73c0903bab85"
      },
      "outputs": [
        {
          "output_type": "execute_result",
          "data": {
            "text/plain": [
              "2515"
            ]
          },
          "metadata": {},
          "execution_count": 40
        }
      ],
      "source": [
        "len(df1)\n"
      ]
    },
    {
      "cell_type": "code",
      "execution_count": 41,
      "metadata": {
        "colab": {
          "base_uri": "https://localhost:8080/",
          "height": 514
        },
        "id": "s14vxwgD3C-T",
        "outputId": "9706b01a-df54-404b-df81-a3ae45e71a56"
      },
      "outputs": [
        {
          "output_type": "execute_result",
          "data": {
            "text/plain": [
              "<matplotlib.legend.Legend at 0x7f3e8ab6a610>"
            ]
          },
          "metadata": {},
          "execution_count": 41
        },
        {
          "output_type": "display_data",
          "data": {
            "text/plain": [
              "<Figure size 1152x576 with 1 Axes>"
            ],
            "image/png": "[encoded data removed]"
          },
          "metadata": {
            "needs_background": "light"
          }
        }
      ],
      "source": [
        "plt.figure(figsize=(16,8))\n",
        "plt.plot(day_new,scaler.inverse_transform(df1[2500:]),\"b\",label=\"last 15days trens\")\n",
        "plt.plot(day_pred,scaler.inverse_transform(lst_output),\"-r\",label=\"predicted 7days\")\n",
        "plt.xlabel(\"test and future prediction days\")\n",
        "plt.ylabel(\"Close price\")\n",
        "plt.legend(loc=\"upper left\")"
      ]
    },
    {
      "cell_type": "code",
      "execution_count": 42,
      "metadata": {
        "colab": {
          "base_uri": "https://localhost:8080/",
          "height": 285
        },
        "id": "zecQ81Kn5g7K",
        "outputId": "87dc1c97-7b88-4f22-bd5b-9d506124219a"
      },
      "outputs": [
        {
          "output_type": "execute_result",
          "data": {
            "text/plain": [
              "[<matplotlib.lines.Line2D at 0x7f3e869c89d0>]"
            ]
          },
          "metadata": {},
          "execution_count": 42
        },
        {
          "output_type": "display_data",
          "data": {
            "text/plain": [
              "<Figure size 432x288 with 1 Axes>"
            ],
            "image/png": "[encoded data removed]"
          },
          "metadata": {
            "needs_background": "light"
          }
        }
      ],
      "source": [
        "df3=df1.tolist()\n",
        "df3.extend(lst_output)\n",
        "plt.plot(scaler.inverse_transform(df3[2490:]))"
      ]
    },
    {
      "cell_type": "code",
      "execution_count": 43,
      "metadata": {
        "colab": {
          "base_uri": "https://localhost:8080/",
          "height": 514
        },
        "id": "xa1X-d0D5u7n",
        "outputId": "dec67ddf-2d13-4b17-b71d-1c50fad14b60"
      },
      "outputs": [
        {
          "output_type": "execute_result",
          "data": {
            "text/plain": [
              "[<matplotlib.lines.Line2D at 0x7f3e869d46d0>]"
            ]
          },
          "metadata": {},
          "execution_count": 43
        },
        {
          "output_type": "display_data",
          "data": {
            "text/plain": [
              "<Figure size 1440x576 with 1 Axes>"
            ],
            "image/png": "[encoded data removed]"
          },
          "metadata": {
            "needs_background": "light"
          }
        }
      ],
      "source": [
        "df3=scaler.inverse_transform(df3).tolist()\n",
        "plt.figure(figsize=(20,8))\n",
        "plt.xlabel(\"total observations\")\n",
        "plt.ylabel(\"Close/Last price till next 7 days\")\n",
        "plt.plot(df3)"
      ]
    },
    {
      "cell_type": "code",
      "source": [
        ""
      ],
      "metadata": {
        "id": "m-T2VsKg22Fc"
      },
      "execution_count": 43,
      "outputs": []
    }
  ],
  "metadata": {
    "colab": {
      "collapsed_sections": [],
      "name": "stockmodel.ipynb",
      "provenance": []
    },
    "kernelspec": {
      "display_name": "Python 3",
      "name": "python3"
    },
    "language_info": {
      "name": "python"
    }
  },
  "nbformat": 4,
  "nbformat_minor": 0
}